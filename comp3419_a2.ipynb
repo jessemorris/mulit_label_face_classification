{
  "nbformat": 4,
  "nbformat_minor": 0,
  "metadata": {
    "colab": {
      "name": "comp3419_a2.ipynb",
      "provenance": [],
      "collapsed_sections": [],
      "toc_visible": true
    },
    "kernelspec": {
      "name": "python3",
      "display_name": "Python 3"
    },
    "accelerator": "GPU"
  },
  "cells": [
    {
      "cell_type": "code",
      "metadata": {
        "id": "YcZrYGGcPZ73"
      },
      "source": [
        "#!pip install torch==1.6.0+cu101 torchvision==0.7.0+cu101 -f https://download.pytorch.org/whl/torch_stable.html"
      ],
      "execution_count": null,
      "outputs": []
    },
    {
      "cell_type": "code",
      "metadata": {
        "id": "xJeWi9o8h78w",
        "colab": {
          "base_uri": "https://localhost:8080/"
        },
        "outputId": "5fbbc9bc-aee1-4b5a-bcc6-9f5a6621ce4d"
      },
      "source": [
        "from google.colab import drive\n",
        "drive.mount('/content/drive')"
      ],
      "execution_count": null,
      "outputs": [
        {
          "output_type": "stream",
          "text": [
            "Drive already mounted at /content/drive; to attempt to forcibly remount, call drive.mount(\"/content/drive\", force_remount=True).\n"
          ],
          "name": "stdout"
        }
      ]
    },
    {
      "cell_type": "markdown",
      "metadata": {
        "id": "9qvALkOsr7ew"
      },
      "source": [
        "# Config and Setup"
      ]
    },
    {
      "cell_type": "code",
      "metadata": {
        "id": "r7HGwJ7Jr6ZV"
      },
      "source": [
        "#Setup for data lading for training the model\n",
        "\n",
        "google_drive_path = '/content/drive/My Drive'\n",
        "\n",
        "img_zip_path = google_drive_path + '/ml_datasets/CELEBA/img_align_celeba.zip'\n",
        "\n",
        "labels_path = google_drive_path + 'ml_datasets/CELEBA/Anno/list_attr_celeba.txt'\n",
        "\n",
        "data_folder_root = 'tmp/'\n"
      ],
      "execution_count": null,
      "outputs": []
    },
    {
      "cell_type": "code",
      "metadata": {
        "id": "LGKjxWEcthyA"
      },
      "source": [
        "# Set up for inferencing only\n",
        "\n",
        "#path to list_attr_celeba.txt\n",
        "labels_path_inferencing = 'list_attr_celeba.txt'\n",
        "\n",
        "# path to best model (in this case comp3419_celeba_model)\n",
        "model_path_inferencing = 'comp3419_celeba_model'\n",
        "\n",
        "#path to image that will be used for inferencing\n",
        "image_path = \"test_face.jpg\""
      ],
      "execution_count": null,
      "outputs": []
    },
    {
      "cell_type": "markdown",
      "metadata": {
        "id": "OAOP59GOw410"
      },
      "source": [
        "# Data Acquisiation"
      ]
    },
    {
      "cell_type": "code",
      "metadata": {
        "id": "KRzPUi93hSeY"
      },
      "source": [
        "\n",
        "\n",
        "\n",
        "import os\n",
        "import zipfile\n",
        "import pandas as pd\n",
        "import numpy as np\n",
        "\n",
        "zip_ref = zipfile.ZipFile(img_zip_path, 'r')\n",
        "zip_ref.extractall()\n",
        "zip_ref.close()\n",
        "\n",
        "\n"
      ],
      "execution_count": null,
      "outputs": []
    },
    {
      "cell_type": "code",
      "metadata": {
        "id": "65ynRSmehvYp",
        "colab": {
          "base_uri": "https://localhost:8080/"
        },
        "outputId": "7acc8892-2293-447f-9c04-6b01f10cacc4"
      },
      "source": [
        "\n",
        "labels_df = pd.read_csv(labels_path)\n",
        "labels_df.head()\n",
        "\n",
        "print(len(labels_df))\n",
        "\n",
        "\n"
      ],
      "execution_count": null,
      "outputs": [
        {
          "output_type": "stream",
          "text": [
            "202600\n"
          ],
          "name": "stdout"
        }
      ]
    },
    {
      "cell_type": "code",
      "metadata": {
        "id": "P47TNhSllXSH"
      },
      "source": [
        "    # NUM_EXAMPLES = 202599\n",
        "    # TRAIN_START = 0\n",
        "    # TRAIN_STOP = 162770\n",
        "    # VALID_START = TRAIN_STOP + 1\n",
        "    # VALID_STOP = 182637\n",
        "    # TEST_START = VALID_STOP + 1\n",
        "    # TEST_STOP = NUM_EXAMPLES\n",
        "\n",
        "    NUM_EXAMPLES = int(202599/2)\n",
        "    TRAIN_START = 0\n",
        "    TRAIN_STOP = int(162770/2)\n",
        "    VALID_START = TRAIN_STOP + 1\n",
        "    VALID_STOP = int(182637/2)\n",
        "    TEST_START = VALID_STOP + 1\n",
        "    TEST_STOP = NUM_EXAMPLES"
      ],
      "execution_count": null,
      "outputs": []
    },
    {
      "cell_type": "markdown",
      "metadata": {
        "id": "BGeoXaPvwjfW"
      },
      "source": [
        "# Pre-processing"
      ]
    },
    {
      "cell_type": "code",
      "metadata": {
        "id": "egfb0zEfifcf",
        "colab": {
          "base_uri": "https://localhost:8080/"
        },
        "outputId": "d940d9e0-884b-433f-e085-f767183f52db"
      },
      "source": [
        "\n",
        "len((labels_df['202599'][0]).split()), (labels_df['202599'][0]).split()\n",
        "\n"
      ],
      "execution_count": null,
      "outputs": [
        {
          "output_type": "execute_result",
          "data": {
            "text/plain": [
              "(40,\n",
              " ['5_o_Clock_Shadow',\n",
              "  'Arched_Eyebrows',\n",
              "  'Attractive',\n",
              "  'Bags_Under_Eyes',\n",
              "  'Bald',\n",
              "  'Bangs',\n",
              "  'Big_Lips',\n",
              "  'Big_Nose',\n",
              "  'Black_Hair',\n",
              "  'Blond_Hair',\n",
              "  'Blurry',\n",
              "  'Brown_Hair',\n",
              "  'Bushy_Eyebrows',\n",
              "  'Chubby',\n",
              "  'Double_Chin',\n",
              "  'Eyeglasses',\n",
              "  'Goatee',\n",
              "  'Gray_Hair',\n",
              "  'Heavy_Makeup',\n",
              "  'High_Cheekbones',\n",
              "  'Male',\n",
              "  'Mouth_Slightly_Open',\n",
              "  'Mustache',\n",
              "  'Narrow_Eyes',\n",
              "  'No_Beard',\n",
              "  'Oval_Face',\n",
              "  'Pale_Skin',\n",
              "  'Pointy_Nose',\n",
              "  'Receding_Hairline',\n",
              "  'Rosy_Cheeks',\n",
              "  'Sideburns',\n",
              "  'Smiling',\n",
              "  'Straight_Hair',\n",
              "  'Wavy_Hair',\n",
              "  'Wearing_Earrings',\n",
              "  'Wearing_Hat',\n",
              "  'Wearing_Lipstick',\n",
              "  'Wearing_Necklace',\n",
              "  'Wearing_Necktie',\n",
              "  'Young'])"
            ]
          },
          "metadata": {
            "tags": []
          },
          "execution_count": 6
        }
      ]
    },
    {
      "cell_type": "code",
      "metadata": {
        "id": "i3-qFhEhjH11"
      },
      "source": [
        "label_dict = {}\n",
        "for i in range(1, len(labels_df)):\n",
        "    label_dict[labels_df['202599'][i].split()[0]] = [x for x in labels_df['202599'][i].split()[1:]]\n",
        "\n"
      ],
      "execution_count": null,
      "outputs": []
    },
    {
      "cell_type": "code",
      "metadata": {
        "id": "ZXkoUlw_jMUo",
        "colab": {
          "base_uri": "https://localhost:8080/",
          "height": 221
        },
        "outputId": "38a911c2-d210-4e66-d3fb-f189130f9357"
      },
      "source": [
        "label_df = pd.DataFrame(label_dict).T\n",
        "\n",
        "label_df.head()"
      ],
      "execution_count": null,
      "outputs": [
        {
          "output_type": "execute_result",
          "data": {
            "text/html": [
              "<div>\n",
              "<style scoped>\n",
              "    .dataframe tbody tr th:only-of-type {\n",
              "        vertical-align: middle;\n",
              "    }\n",
              "\n",
              "    .dataframe tbody tr th {\n",
              "        vertical-align: top;\n",
              "    }\n",
              "\n",
              "    .dataframe thead th {\n",
              "        text-align: right;\n",
              "    }\n",
              "</style>\n",
              "<table border=\"1\" class=\"dataframe\">\n",
              "  <thead>\n",
              "    <tr style=\"text-align: right;\">\n",
              "      <th></th>\n",
              "      <th>0</th>\n",
              "      <th>1</th>\n",
              "      <th>2</th>\n",
              "      <th>3</th>\n",
              "      <th>4</th>\n",
              "      <th>5</th>\n",
              "      <th>6</th>\n",
              "      <th>7</th>\n",
              "      <th>8</th>\n",
              "      <th>9</th>\n",
              "      <th>10</th>\n",
              "      <th>11</th>\n",
              "      <th>12</th>\n",
              "      <th>13</th>\n",
              "      <th>14</th>\n",
              "      <th>15</th>\n",
              "      <th>16</th>\n",
              "      <th>17</th>\n",
              "      <th>18</th>\n",
              "      <th>19</th>\n",
              "      <th>20</th>\n",
              "      <th>21</th>\n",
              "      <th>22</th>\n",
              "      <th>23</th>\n",
              "      <th>24</th>\n",
              "      <th>25</th>\n",
              "      <th>26</th>\n",
              "      <th>27</th>\n",
              "      <th>28</th>\n",
              "      <th>29</th>\n",
              "      <th>30</th>\n",
              "      <th>31</th>\n",
              "      <th>32</th>\n",
              "      <th>33</th>\n",
              "      <th>34</th>\n",
              "      <th>35</th>\n",
              "      <th>36</th>\n",
              "      <th>37</th>\n",
              "      <th>38</th>\n",
              "      <th>39</th>\n",
              "    </tr>\n",
              "  </thead>\n",
              "  <tbody>\n",
              "    <tr>\n",
              "      <th>000001.jpg</th>\n",
              "      <td>-1</td>\n",
              "      <td>1</td>\n",
              "      <td>1</td>\n",
              "      <td>-1</td>\n",
              "      <td>-1</td>\n",
              "      <td>-1</td>\n",
              "      <td>-1</td>\n",
              "      <td>-1</td>\n",
              "      <td>-1</td>\n",
              "      <td>-1</td>\n",
              "      <td>-1</td>\n",
              "      <td>1</td>\n",
              "      <td>-1</td>\n",
              "      <td>-1</td>\n",
              "      <td>-1</td>\n",
              "      <td>-1</td>\n",
              "      <td>-1</td>\n",
              "      <td>-1</td>\n",
              "      <td>1</td>\n",
              "      <td>1</td>\n",
              "      <td>-1</td>\n",
              "      <td>1</td>\n",
              "      <td>-1</td>\n",
              "      <td>-1</td>\n",
              "      <td>1</td>\n",
              "      <td>-1</td>\n",
              "      <td>-1</td>\n",
              "      <td>1</td>\n",
              "      <td>-1</td>\n",
              "      <td>-1</td>\n",
              "      <td>-1</td>\n",
              "      <td>1</td>\n",
              "      <td>1</td>\n",
              "      <td>-1</td>\n",
              "      <td>1</td>\n",
              "      <td>-1</td>\n",
              "      <td>1</td>\n",
              "      <td>-1</td>\n",
              "      <td>-1</td>\n",
              "      <td>1</td>\n",
              "    </tr>\n",
              "    <tr>\n",
              "      <th>000002.jpg</th>\n",
              "      <td>-1</td>\n",
              "      <td>-1</td>\n",
              "      <td>-1</td>\n",
              "      <td>1</td>\n",
              "      <td>-1</td>\n",
              "      <td>-1</td>\n",
              "      <td>-1</td>\n",
              "      <td>1</td>\n",
              "      <td>-1</td>\n",
              "      <td>-1</td>\n",
              "      <td>-1</td>\n",
              "      <td>1</td>\n",
              "      <td>-1</td>\n",
              "      <td>-1</td>\n",
              "      <td>-1</td>\n",
              "      <td>-1</td>\n",
              "      <td>-1</td>\n",
              "      <td>-1</td>\n",
              "      <td>-1</td>\n",
              "      <td>1</td>\n",
              "      <td>-1</td>\n",
              "      <td>1</td>\n",
              "      <td>-1</td>\n",
              "      <td>-1</td>\n",
              "      <td>1</td>\n",
              "      <td>-1</td>\n",
              "      <td>-1</td>\n",
              "      <td>-1</td>\n",
              "      <td>-1</td>\n",
              "      <td>-1</td>\n",
              "      <td>-1</td>\n",
              "      <td>1</td>\n",
              "      <td>-1</td>\n",
              "      <td>-1</td>\n",
              "      <td>-1</td>\n",
              "      <td>-1</td>\n",
              "      <td>-1</td>\n",
              "      <td>-1</td>\n",
              "      <td>-1</td>\n",
              "      <td>1</td>\n",
              "    </tr>\n",
              "    <tr>\n",
              "      <th>000003.jpg</th>\n",
              "      <td>-1</td>\n",
              "      <td>-1</td>\n",
              "      <td>-1</td>\n",
              "      <td>-1</td>\n",
              "      <td>-1</td>\n",
              "      <td>-1</td>\n",
              "      <td>1</td>\n",
              "      <td>-1</td>\n",
              "      <td>-1</td>\n",
              "      <td>-1</td>\n",
              "      <td>1</td>\n",
              "      <td>-1</td>\n",
              "      <td>-1</td>\n",
              "      <td>-1</td>\n",
              "      <td>-1</td>\n",
              "      <td>-1</td>\n",
              "      <td>-1</td>\n",
              "      <td>-1</td>\n",
              "      <td>-1</td>\n",
              "      <td>-1</td>\n",
              "      <td>1</td>\n",
              "      <td>-1</td>\n",
              "      <td>-1</td>\n",
              "      <td>1</td>\n",
              "      <td>1</td>\n",
              "      <td>-1</td>\n",
              "      <td>-1</td>\n",
              "      <td>1</td>\n",
              "      <td>-1</td>\n",
              "      <td>-1</td>\n",
              "      <td>-1</td>\n",
              "      <td>-1</td>\n",
              "      <td>-1</td>\n",
              "      <td>1</td>\n",
              "      <td>-1</td>\n",
              "      <td>-1</td>\n",
              "      <td>-1</td>\n",
              "      <td>-1</td>\n",
              "      <td>-1</td>\n",
              "      <td>1</td>\n",
              "    </tr>\n",
              "    <tr>\n",
              "      <th>000004.jpg</th>\n",
              "      <td>-1</td>\n",
              "      <td>-1</td>\n",
              "      <td>1</td>\n",
              "      <td>-1</td>\n",
              "      <td>-1</td>\n",
              "      <td>-1</td>\n",
              "      <td>-1</td>\n",
              "      <td>-1</td>\n",
              "      <td>-1</td>\n",
              "      <td>-1</td>\n",
              "      <td>-1</td>\n",
              "      <td>-1</td>\n",
              "      <td>-1</td>\n",
              "      <td>-1</td>\n",
              "      <td>-1</td>\n",
              "      <td>-1</td>\n",
              "      <td>-1</td>\n",
              "      <td>-1</td>\n",
              "      <td>-1</td>\n",
              "      <td>-1</td>\n",
              "      <td>-1</td>\n",
              "      <td>-1</td>\n",
              "      <td>-1</td>\n",
              "      <td>-1</td>\n",
              "      <td>1</td>\n",
              "      <td>-1</td>\n",
              "      <td>-1</td>\n",
              "      <td>1</td>\n",
              "      <td>-1</td>\n",
              "      <td>-1</td>\n",
              "      <td>-1</td>\n",
              "      <td>-1</td>\n",
              "      <td>1</td>\n",
              "      <td>-1</td>\n",
              "      <td>1</td>\n",
              "      <td>-1</td>\n",
              "      <td>1</td>\n",
              "      <td>1</td>\n",
              "      <td>-1</td>\n",
              "      <td>1</td>\n",
              "    </tr>\n",
              "    <tr>\n",
              "      <th>000005.jpg</th>\n",
              "      <td>-1</td>\n",
              "      <td>1</td>\n",
              "      <td>1</td>\n",
              "      <td>-1</td>\n",
              "      <td>-1</td>\n",
              "      <td>-1</td>\n",
              "      <td>1</td>\n",
              "      <td>-1</td>\n",
              "      <td>-1</td>\n",
              "      <td>-1</td>\n",
              "      <td>-1</td>\n",
              "      <td>-1</td>\n",
              "      <td>-1</td>\n",
              "      <td>-1</td>\n",
              "      <td>-1</td>\n",
              "      <td>-1</td>\n",
              "      <td>-1</td>\n",
              "      <td>-1</td>\n",
              "      <td>1</td>\n",
              "      <td>-1</td>\n",
              "      <td>-1</td>\n",
              "      <td>-1</td>\n",
              "      <td>-1</td>\n",
              "      <td>1</td>\n",
              "      <td>1</td>\n",
              "      <td>-1</td>\n",
              "      <td>-1</td>\n",
              "      <td>1</td>\n",
              "      <td>-1</td>\n",
              "      <td>-1</td>\n",
              "      <td>-1</td>\n",
              "      <td>-1</td>\n",
              "      <td>-1</td>\n",
              "      <td>-1</td>\n",
              "      <td>-1</td>\n",
              "      <td>-1</td>\n",
              "      <td>1</td>\n",
              "      <td>-1</td>\n",
              "      <td>-1</td>\n",
              "      <td>1</td>\n",
              "    </tr>\n",
              "  </tbody>\n",
              "</table>\n",
              "</div>"
            ],
            "text/plain": [
              "            0   1   2   3   4   5   6   7   ...  32  33  34  35  36  37  38 39\n",
              "000001.jpg  -1   1   1  -1  -1  -1  -1  -1  ...   1  -1   1  -1   1  -1  -1  1\n",
              "000002.jpg  -1  -1  -1   1  -1  -1  -1   1  ...  -1  -1  -1  -1  -1  -1  -1  1\n",
              "000003.jpg  -1  -1  -1  -1  -1  -1   1  -1  ...  -1   1  -1  -1  -1  -1  -1  1\n",
              "000004.jpg  -1  -1   1  -1  -1  -1  -1  -1  ...   1  -1   1  -1   1   1  -1  1\n",
              "000005.jpg  -1   1   1  -1  -1  -1   1  -1  ...  -1  -1  -1  -1   1  -1  -1  1\n",
              "\n",
              "[5 rows x 40 columns]"
            ]
          },
          "metadata": {
            "tags": []
          },
          "execution_count": 8
        }
      ]
    },
    {
      "cell_type": "code",
      "metadata": {
        "id": "8QyuVfZEjkNd",
        "colab": {
          "base_uri": "https://localhost:8080/"
        },
        "outputId": "b444ff60-be81-4adc-ba93-cc6310705fad"
      },
      "source": [
        "label_df.columns = (labels_df['202599'][0]).split()\n",
        "label_df.replace(['-1'], ['0'], inplace = True)\n",
        "label_df.index\n",
        "\n",
        "class_names = list(label_df.columns)\n",
        "\n",
        "print(class_names[2])\n",
        "\n",
        "\n",
        "\n"
      ],
      "execution_count": null,
      "outputs": [
        {
          "output_type": "stream",
          "text": [
            "Attractive\n"
          ],
          "name": "stdout"
        }
      ]
    },
    {
      "cell_type": "code",
      "metadata": {
        "id": "BxE8ceCFVTFh"
      },
      "source": [
        "def get_labels_from_index(index_list):\n",
        "  \n",
        "  labels = []\n",
        "  for i, value in enumerate(index_list):\n",
        "    if value == 1:\n",
        "      labels.append(class_names[i])\n",
        "\n",
        "  return labels"
      ],
      "execution_count": null,
      "outputs": []
    },
    {
      "cell_type": "code",
      "metadata": {
        "id": "dVubsQ_LYS2K"
      },
      "source": [
        "def get_labels_from_index_as_string(index_list):\n",
        "  print(index_list)\n",
        "  labels = \"\"\n",
        "  for i, value in enumerate(index_list):\n",
        "    if value == 1:\n",
        "      labels += str(class_names[i])\n",
        "      labels += \" \"\n",
        "\n",
        "  return labels"
      ],
      "execution_count": null,
      "outputs": []
    },
    {
      "cell_type": "code",
      "metadata": {
        "id": "r8-h7PdIjrVO",
        "colab": {
          "base_uri": "https://localhost:8080/"
        },
        "outputId": "a596b8aa-47fd-46f5-a760-b4af4d7d0e39"
      },
      "source": [
        "from glob import glob\n",
        "\n",
        "files = glob('img_align_celeba/*.jpg')\n",
        "len(files)"
      ],
      "execution_count": null,
      "outputs": [
        {
          "output_type": "execute_result",
          "data": {
            "text/plain": [
              "202599"
            ]
          },
          "metadata": {
            "tags": []
          },
          "execution_count": 12
        }
      ]
    },
    {
      "cell_type": "code",
      "metadata": {
        "id": "Hql0KlfP1kFt",
        "colab": {
          "base_uri": "https://localhost:8080/",
          "height": 234
        },
        "outputId": "7301be70-f870-4058-a6fe-4b945cc63b28"
      },
      "source": [
        "from PIL import Image\n",
        "Image.open('img_align_celeba/202594.jpg')"
      ],
      "execution_count": null,
      "outputs": [
        {
          "output_type": "execute_result",
          "data": {
            "image/png": "[encoded data removed]",
            "text/plain": [
              "<PIL.JpegImagePlugin.JpegImageFile image mode=RGB size=178x218 at 0x7F383D510940>"
            ]
          },
          "metadata": {
            "tags": []
          },
          "execution_count": 13
        }
      ]
    },
    {
      "cell_type": "code",
      "metadata": {
        "id": "Uq71iofp4sed"
      },
      "source": [
        "shuffle = np.random.permutation(len(files))"
      ],
      "execution_count": null,
      "outputs": []
    },
    {
      "cell_type": "code",
      "metadata": {
        "id": "M8-X_Yo0kMRd",
        "colab": {
          "base_uri": "https://localhost:8080/",
          "height": 34
        },
        "outputId": "409e2f81-bf93-4172-f9b9-2eb21776027a"
      },
      "source": [
        "if not os.path.exists(data_folder_root + '/train/data'):\n",
        "  os.makedirs(data_folder_root + '/train/data')\n",
        "os.path.join(data_folder_root, 'train')\n",
        "os.path.join(data_folder_root, 'train/data')\n",
        "\n",
        "if not os.path.exists(data_folder_root + '/valid/data'):\n",
        "    os.makedirs(data_folder_root + '/valid/data')\n",
        "os.path.join(data_folder_root, 'valid')\n",
        "os.path.join(data_folder_root', 'valid/data')\n",
        "\n",
        "if not os.path.exists(data_folder_root + '/test/data'):\n",
        "    os.makedirs(data_folder_root + '/test/data')\n",
        "os.path.join(data_folder_root, 'test')\n",
        "os.path.join(data_folder_root, 'test/data')\n",
        "\n",
        "\n"
      ],
      "execution_count": null,
      "outputs": [
        {
          "output_type": "execute_result",
          "data": {
            "application/vnd.google.colaboratory.intrinsic+json": {
              "type": "string"
            },
            "text/plain": [
              "'/tmp/test/data'"
            ]
          },
          "metadata": {
            "tags": []
          },
          "execution_count": 15
        }
      ]
    },
    {
      "cell_type": "code",
      "metadata": {
        "id": "WOejQ3VTkXI2",
        "colab": {
          "base_uri": "https://localhost:8080/"
        },
        "outputId": "4ad4cba8-b04f-499b-ee4d-2ca913ebb2f4"
      },
      "source": [
        "from tqdm import tqdm\n",
        "\n",
        "valid_dict = {}\n",
        "valid_file_names = []\n",
        "for i in tqdm(shuffle[VALID_START:VALID_STOP]):\n",
        "    file_name = files[i].split('/')[-1]\n",
        "    labels = np.array(label_df[label_df.index==file_name])\n",
        "    valid_dict[file_name] = labels\n",
        "    valid_file_names.append(file_name)\n",
        "    # os.rename(files[i], os.path.join('/tmp/', 'valid/data', file_name))\n",
        "    os.rename(files[i], data_folder_root + '/valid/data/' + file_name)"
      ],
      "execution_count": null,
      "outputs": [
        {
          "output_type": "stream",
          "text": [
            "100%|██████████| 9932/9932 [01:58<00:00, 83.79it/s]\n"
          ],
          "name": "stderr"
        }
      ]
    },
    {
      "cell_type": "code",
      "metadata": {
        "id": "2ih_akAIk5uN",
        "colab": {
          "base_uri": "https://localhost:8080/",
          "height": 201
        },
        "outputId": "03109015-20fe-4a74-aa6e-1f49749eeb0b"
      },
      "source": [
        "valid_df = pd.DataFrame(valid_dict.values())\n",
        "valid_df.head()\n",
        "\n",
        "valid_df.index = valid_file_names\n",
        "valid_df.columns = ['labels']\n",
        "\n",
        "valid_df.head()\n"
      ],
      "execution_count": null,
      "outputs": [
        {
          "output_type": "execute_result",
          "data": {
            "text/html": [
              "<div>\n",
              "<style scoped>\n",
              "    .dataframe tbody tr th:only-of-type {\n",
              "        vertical-align: middle;\n",
              "    }\n",
              "\n",
              "    .dataframe tbody tr th {\n",
              "        vertical-align: top;\n",
              "    }\n",
              "\n",
              "    .dataframe thead th {\n",
              "        text-align: right;\n",
              "    }\n",
              "</style>\n",
              "<table border=\"1\" class=\"dataframe\">\n",
              "  <thead>\n",
              "    <tr style=\"text-align: right;\">\n",
              "      <th></th>\n",
              "      <th>labels</th>\n",
              "    </tr>\n",
              "  </thead>\n",
              "  <tbody>\n",
              "    <tr>\n",
              "      <th>005470.jpg</th>\n",
              "      <td>[[0, 0, 1, 0, 0, 1, 0, 0, 0, 1, 0, 0, 0, 0, 0,...</td>\n",
              "    </tr>\n",
              "    <tr>\n",
              "      <th>162251.jpg</th>\n",
              "      <td>[[0, 1, 1, 0, 0, 0, 0, 0, 0, 1, 0, 0, 0, 0, 0,...</td>\n",
              "    </tr>\n",
              "    <tr>\n",
              "      <th>004482.jpg</th>\n",
              "      <td>[[0, 0, 1, 0, 0, 0, 0, 0, 1, 0, 0, 0, 0, 0, 0,...</td>\n",
              "    </tr>\n",
              "    <tr>\n",
              "      <th>077448.jpg</th>\n",
              "      <td>[[0, 1, 0, 0, 0, 0, 1, 0, 1, 0, 0, 0, 0, 0, 0,...</td>\n",
              "    </tr>\n",
              "    <tr>\n",
              "      <th>073020.jpg</th>\n",
              "      <td>[[0, 1, 1, 0, 0, 0, 0, 0, 0, 0, 0, 0, 0, 0, 0,...</td>\n",
              "    </tr>\n",
              "  </tbody>\n",
              "</table>\n",
              "</div>"
            ],
            "text/plain": [
              "                                                       labels\n",
              "005470.jpg  [[0, 0, 1, 0, 0, 1, 0, 0, 0, 1, 0, 0, 0, 0, 0,...\n",
              "162251.jpg  [[0, 1, 1, 0, 0, 0, 0, 0, 0, 1, 0, 0, 0, 0, 0,...\n",
              "004482.jpg  [[0, 0, 1, 0, 0, 0, 0, 0, 1, 0, 0, 0, 0, 0, 0,...\n",
              "077448.jpg  [[0, 1, 0, 0, 0, 0, 1, 0, 1, 0, 0, 0, 0, 0, 0,...\n",
              "073020.jpg  [[0, 1, 1, 0, 0, 0, 0, 0, 0, 0, 0, 0, 0, 0, 0,..."
            ]
          },
          "metadata": {
            "tags": []
          },
          "execution_count": 17
        }
      ]
    },
    {
      "cell_type": "code",
      "metadata": {
        "id": "E5AdppwolQIt",
        "colab": {
          "base_uri": "https://localhost:8080/"
        },
        "outputId": "18646977-87c6-4592-f94a-e6bc37d58424"
      },
      "source": [
        "train_dict = {}\n",
        "train_file_names = []\n",
        "for i in tqdm(shuffle[TRAIN_START:TRAIN_STOP]):\n",
        "    file_name = files[i].split('/')[-1]\n",
        "    labels = np.array(label_df[label_df.index==file_name])\n",
        "    train_dict[file_name] = labels\n",
        "    train_file_names.append(file_name)\n",
        "    os.rename(files[i], data_folder_root + '/train/data/' + file_name)\n",
        "\n",
        "len(train_dict)"
      ],
      "execution_count": null,
      "outputs": [
        {
          "output_type": "stream",
          "text": [
            "100%|██████████| 81385/81385 [15:43<00:00, 86.28it/s]\n"
          ],
          "name": "stderr"
        },
        {
          "output_type": "execute_result",
          "data": {
            "text/plain": [
              "81385"
            ]
          },
          "metadata": {
            "tags": []
          },
          "execution_count": 18
        }
      ]
    },
    {
      "cell_type": "code",
      "metadata": {
        "id": "-cOfZW3mmBFo",
        "colab": {
          "base_uri": "https://localhost:8080/",
          "height": 201
        },
        "outputId": "12a6e6e8-d23e-4833-d2bd-d6fa9638bf5b"
      },
      "source": [
        "train_df = pd.DataFrame(train_dict.values())\n",
        "train_df.index = train_file_names\n",
        "train_df.columns = ['labels']\n",
        "train_df.head()"
      ],
      "execution_count": null,
      "outputs": [
        {
          "output_type": "execute_result",
          "data": {
            "text/html": [
              "<div>\n",
              "<style scoped>\n",
              "    .dataframe tbody tr th:only-of-type {\n",
              "        vertical-align: middle;\n",
              "    }\n",
              "\n",
              "    .dataframe tbody tr th {\n",
              "        vertical-align: top;\n",
              "    }\n",
              "\n",
              "    .dataframe thead th {\n",
              "        text-align: right;\n",
              "    }\n",
              "</style>\n",
              "<table border=\"1\" class=\"dataframe\">\n",
              "  <thead>\n",
              "    <tr style=\"text-align: right;\">\n",
              "      <th></th>\n",
              "      <th>labels</th>\n",
              "    </tr>\n",
              "  </thead>\n",
              "  <tbody>\n",
              "    <tr>\n",
              "      <th>044372.jpg</th>\n",
              "      <td>[[0, 0, 1, 0, 0, 0, 0, 0, 0, 0, 0, 1, 0, 0, 0,...</td>\n",
              "    </tr>\n",
              "    <tr>\n",
              "      <th>010432.jpg</th>\n",
              "      <td>[[0, 1, 1, 0, 0, 0, 1, 0, 0, 0, 0, 1, 0, 0, 0,...</td>\n",
              "    </tr>\n",
              "    <tr>\n",
              "      <th>118261.jpg</th>\n",
              "      <td>[[0, 0, 0, 0, 0, 0, 0, 0, 0, 0, 0, 0, 1, 1, 0,...</td>\n",
              "    </tr>\n",
              "    <tr>\n",
              "      <th>095380.jpg</th>\n",
              "      <td>[[1, 1, 0, 1, 0, 0, 1, 1, 0, 0, 0, 0, 0, 0, 0,...</td>\n",
              "    </tr>\n",
              "    <tr>\n",
              "      <th>162744.jpg</th>\n",
              "      <td>[[0, 1, 1, 1, 0, 0, 0, 0, 0, 0, 0, 1, 0, 0, 0,...</td>\n",
              "    </tr>\n",
              "  </tbody>\n",
              "</table>\n",
              "</div>"
            ],
            "text/plain": [
              "                                                       labels\n",
              "044372.jpg  [[0, 0, 1, 0, 0, 0, 0, 0, 0, 0, 0, 1, 0, 0, 0,...\n",
              "010432.jpg  [[0, 1, 1, 0, 0, 0, 1, 0, 0, 0, 0, 1, 0, 0, 0,...\n",
              "118261.jpg  [[0, 0, 0, 0, 0, 0, 0, 0, 0, 0, 0, 0, 1, 1, 0,...\n",
              "095380.jpg  [[1, 1, 0, 1, 0, 0, 1, 1, 0, 0, 0, 0, 0, 0, 0,...\n",
              "162744.jpg  [[0, 1, 1, 1, 0, 0, 0, 0, 0, 0, 0, 1, 0, 0, 0,..."
            ]
          },
          "metadata": {
            "tags": []
          },
          "execution_count": 19
        }
      ]
    },
    {
      "cell_type": "code",
      "metadata": {
        "id": "l9ndtA-El7lg",
        "colab": {
          "base_uri": "https://localhost:8080/"
        },
        "outputId": "491c646e-dcf9-4e51-8793-45ddaf3706fb"
      },
      "source": [
        "test_dict = {}\n",
        "test_file_names = []\n",
        "for i in tqdm(shuffle[TEST_START:TEST_STOP]):\n",
        "    file_name = files[i].split('/')[-1]\n",
        "    labels = np.array(label_df[label_df.index==file_name])\n",
        "    test_dict[file_name] = labels\n",
        "    test_file_names.append(file_name)\n",
        "    os.rename(files[i], data_folder_root + '/test/data/' + file_name)\n",
        "\n",
        "len(test_dict)"
      ],
      "execution_count": null,
      "outputs": [
        {
          "output_type": "stream",
          "text": [
            "100%|██████████| 9980/9980 [01:55<00:00, 86.62it/s]\n"
          ],
          "name": "stderr"
        },
        {
          "output_type": "execute_result",
          "data": {
            "text/plain": [
              "9980"
            ]
          },
          "metadata": {
            "tags": []
          },
          "execution_count": 20
        }
      ]
    },
    {
      "cell_type": "code",
      "metadata": {
        "id": "ftEwxe9PmGgt",
        "colab": {
          "base_uri": "https://localhost:8080/",
          "height": 201
        },
        "outputId": "278b4dbb-1a4e-4ea2-8e10-5f3d271817c3"
      },
      "source": [
        "test_df = pd.DataFrame(test_dict.values())\n",
        "test_df.index = test_file_names\n",
        "test_df.columns = ['labels']\n",
        "test_df.head()"
      ],
      "execution_count": null,
      "outputs": [
        {
          "output_type": "execute_result",
          "data": {
            "text/html": [
              "<div>\n",
              "<style scoped>\n",
              "    .dataframe tbody tr th:only-of-type {\n",
              "        vertical-align: middle;\n",
              "    }\n",
              "\n",
              "    .dataframe tbody tr th {\n",
              "        vertical-align: top;\n",
              "    }\n",
              "\n",
              "    .dataframe thead th {\n",
              "        text-align: right;\n",
              "    }\n",
              "</style>\n",
              "<table border=\"1\" class=\"dataframe\">\n",
              "  <thead>\n",
              "    <tr style=\"text-align: right;\">\n",
              "      <th></th>\n",
              "      <th>labels</th>\n",
              "    </tr>\n",
              "  </thead>\n",
              "  <tbody>\n",
              "    <tr>\n",
              "      <th>155600.jpg</th>\n",
              "      <td>[[0, 1, 1, 0, 0, 0, 0, 0, 0, 1, 0, 0, 0, 0, 0,...</td>\n",
              "    </tr>\n",
              "    <tr>\n",
              "      <th>045779.jpg</th>\n",
              "      <td>[[1, 0, 0, 1, 0, 0, 1, 1, 1, 0, 0, 0, 0, 0, 0,...</td>\n",
              "    </tr>\n",
              "    <tr>\n",
              "      <th>084669.jpg</th>\n",
              "      <td>[[0, 1, 0, 0, 0, 0, 0, 0, 0, 1, 0, 0, 0, 0, 0,...</td>\n",
              "    </tr>\n",
              "    <tr>\n",
              "      <th>101996.jpg</th>\n",
              "      <td>[[0, 1, 1, 1, 0, 0, 0, 0, 0, 1, 0, 0, 0, 0, 0,...</td>\n",
              "    </tr>\n",
              "    <tr>\n",
              "      <th>036113.jpg</th>\n",
              "      <td>[[0, 0, 1, 1, 0, 1, 1, 0, 0, 0, 0, 0, 0, 0, 0,...</td>\n",
              "    </tr>\n",
              "  </tbody>\n",
              "</table>\n",
              "</div>"
            ],
            "text/plain": [
              "                                                       labels\n",
              "155600.jpg  [[0, 1, 1, 0, 0, 0, 0, 0, 0, 1, 0, 0, 0, 0, 0,...\n",
              "045779.jpg  [[1, 0, 0, 1, 0, 0, 1, 1, 1, 0, 0, 0, 0, 0, 0,...\n",
              "084669.jpg  [[0, 1, 0, 0, 0, 0, 0, 0, 0, 1, 0, 0, 0, 0, 0,...\n",
              "101996.jpg  [[0, 1, 1, 1, 0, 0, 0, 0, 0, 1, 0, 0, 0, 0, 0,...\n",
              "036113.jpg  [[0, 0, 1, 1, 0, 1, 1, 0, 0, 0, 0, 0, 0, 0, 0,..."
            ]
          },
          "metadata": {
            "tags": []
          },
          "execution_count": 21
        }
      ]
    },
    {
      "cell_type": "markdown",
      "metadata": {
        "id": "-JdhdNQgmHmg"
      },
      "source": [
        "# Batches and Training\n"
      ]
    },
    {
      "cell_type": "code",
      "metadata": {
        "id": "sylptb29mKh8"
      },
      "source": [
        "import os\n",
        "os.environ['CUDA_LAUNCH_BLOCKING'] = \"1\"\n",
        "import torchvision\n",
        "from glob import glob\n",
        "import matplotlib.pyplot as plt\n",
        "from torchvision import transforms\n",
        "from torchvision import models\n",
        "import torch\n",
        "from torch.autograd import Variable\n",
        "import torch.nn as nn\n",
        "from torch.optim import lr_scheduler\n",
        "from torch import optim\n",
        "from torchvision.utils import make_grid\n",
        "import time\n",
        "from torch.utils.data import Dataset\n",
        "from PIL import Image \n",
        "%matplotlib inline"
      ],
      "execution_count": null,
      "outputs": []
    },
    {
      "cell_type": "code",
      "metadata": {
        "id": "ddmD4LKomVEc"
      },
      "source": [
        "class MultiClassCelebA(Dataset):\n",
        "    \n",
        "    def __init__(self, dataframe, folder_dir, transform = None):\n",
        "        \n",
        "        self.dataframe = dataframe\n",
        "        self.folder_dir = folder_dir\n",
        "        self.transform = transform\n",
        "        self.file_names = dataframe.index\n",
        "        self.labels = dataframe.labels.values.tolist()\n",
        "        \n",
        "        \n",
        "    def __len__(self):\n",
        "        return len(self.dataframe)\n",
        "    \n",
        "    \n",
        "    def __getitem__(self, index):\n",
        "        \n",
        "        image = Image.open(os.path.join(self.folder_dir, self.file_names[index]))\n",
        "        label = self.labels[index][0]\n",
        "        sample = {'image': image, 'label': label.astype(float)}\n",
        "        if self.transform:\n",
        "            image = self.transform(sample['image'])\n",
        "            sample = {'image': image, 'label': label.astype(float)}\n",
        "        \n",
        "        return sample"
      ],
      "execution_count": null,
      "outputs": []
    },
    {
      "cell_type": "code",
      "metadata": {
        "id": "C6K-Ikm6mWy-",
        "colab": {
          "base_uri": "https://localhost:8080/"
        },
        "outputId": "216c5734-810b-4d1b-d236-1857e2e0d471"
      },
      "source": [
        "\n",
        "tfms = transforms.Compose([\n",
        "    transforms.Resize(256),\n",
        "    transforms.CenterCrop(224),\n",
        "    transforms.ToTensor(),\n",
        "    transforms.Normalize(mean=[0.485, 0.456, 0.406], std=[0.229, 0.224, 0.225]),\n",
        "])\n",
        "\n",
        "#some wackyness to help Colab find the tmp folder\n",
        "data_folder_prefix = data_folder_root\n",
        "if data_folder_root == 'tmp/':\n",
        "  data_folder_prefix = './tmp'\n",
        "train_dl = MultiClassCelebA(train_df, data_folder_prefix + '/train/data', transform = tfms)\n"
      ],
      "execution_count": null,
      "outputs": [
        {
          "output_type": "execute_result",
          "data": {
            "text/plain": [
              "<__main__.MultiClassCelebA at 0x7f3840f3bd68>"
            ]
          },
          "metadata": {
            "tags": []
          },
          "execution_count": 24
        }
      ]
    },
    {
      "cell_type": "code",
      "metadata": {
        "id": "arW-M_A1mY9M",
        "colab": {
          "base_uri": "https://localhost:8080/",
          "height": 301
        },
        "outputId": "661d0e6e-fca8-44da-8949-218dff63f279"
      },
      "source": [
        "plt.imshow(torchvision.utils.make_grid(train_dl[10]['image']).permute(1, 2, 0))"
      ],
      "execution_count": null,
      "outputs": [
        {
          "output_type": "stream",
          "text": [
            "Clipping input data to the valid range for imshow with RGB data ([0..1] for floats or [0..255] for integers).\n"
          ],
          "name": "stderr"
        },
        {
          "output_type": "execute_result",
          "data": {
            "text/plain": [
              "<matplotlib.image.AxesImage at 0x7f37eff8e940>"
            ]
          },
          "metadata": {
            "tags": []
          },
          "execution_count": 25
        },
        {
          "output_type": "display_data",
          "data": {
            "image/png": "[encoded data removed]",
            "text/plain": [
              "<Figure size 432x288 with 1 Axes>"
            ]
          },
          "metadata": {
            "tags": [],
            "needs_background": "light"
          }
        }
      ]
    },
    {
      "cell_type": "code",
      "metadata": {
        "colab": {
          "base_uri": "https://localhost:8080/"
        },
        "id": "EvVfM-bIEqKe",
        "outputId": "2764288b-7984-410f-9c67-11789d52e191"
      },
      "source": [
        "train_dl[10]['image'].shape"
      ],
      "execution_count": null,
      "outputs": [
        {
          "output_type": "execute_result",
          "data": {
            "text/plain": [
              "torch.Size([3, 224, 224])"
            ]
          },
          "metadata": {
            "tags": []
          },
          "execution_count": 81
        }
      ]
    },
    {
      "cell_type": "code",
      "metadata": {
        "id": "BkmL1DmbmedE",
        "colab": {
          "base_uri": "https://localhost:8080/"
        },
        "outputId": "10150b31-fb07-4e8d-ec7e-2723d0ee700e"
      },
      "source": [
        "(train_dl[1]['label'])\n",
        "print(get_labels_from_index(train_dl[1]['label']))\n",
        "print(get_labels_from_index_as_string(train_dl[1]['label']))"
      ],
      "execution_count": null,
      "outputs": [
        {
          "output_type": "stream",
          "text": [
            "['Arched_Eyebrows', 'Attractive', 'Big_Lips', 'Brown_Hair', 'Heavy_Makeup', 'High_Cheekbones', 'Mouth_Slightly_Open', 'Narrow_Eyes', 'No_Beard', 'Rosy_Cheeks', 'Smiling', 'Wavy_Hair', 'Wearing_Lipstick', 'Young']\n",
            "[0. 1. 1. 0. 0. 0. 1. 0. 0. 0. 0. 1. 0. 0. 0. 0. 0. 0. 1. 1. 0. 1. 0. 1.\n",
            " 1. 0. 0. 0. 0. 1. 0. 1. 0. 1. 0. 0. 1. 0. 0. 1.]\n",
            "Arched_Eyebrows Attractive Big_Lips Brown_Hair Heavy_Makeup High_Cheekbones Mouth_Slightly_Open Narrow_Eyes No_Beard Rosy_Cheeks Smiling Wavy_Hair Wearing_Lipstick Young \n"
          ],
          "name": "stdout"
        }
      ]
    },
    {
      "cell_type": "code",
      "metadata": {
        "id": "fnJk_NbomiSj"
      },
      "source": [
        "\n",
        "\n",
        "valid_dl = MultiClassCelebA(valid_df, data_folder_prefix + '/valid/data', transform = tfms)\n"
      ],
      "execution_count": null,
      "outputs": []
    },
    {
      "cell_type": "code",
      "metadata": {
        "id": "2RaV3pU7mmkU"
      },
      "source": [
        "test_dl = MultiClassCelebA(test_df, data_folder_prefix + '/test/data', transform = tfms)"
      ],
      "execution_count": null,
      "outputs": []
    },
    {
      "cell_type": "code",
      "metadata": {
        "id": "Kn3wfECgnm83"
      },
      "source": [
        "def check_cuda():\n",
        "    _cuda = False\n",
        "    if torch.cuda.is_available():\n",
        "        _cuda = True\n",
        "    return _cuda"
      ],
      "execution_count": null,
      "outputs": []
    },
    {
      "cell_type": "code",
      "metadata": {
        "id": "LpgQln1fnnj_",
        "colab": {
          "base_uri": "https://localhost:8080/"
        },
        "outputId": "eab2a3f4-7de3-4d88-d923-0e61fbac6121"
      },
      "source": [
        "is_cuda  = check_cuda()\n",
        "print(is_cuda)"
      ],
      "execution_count": null,
      "outputs": [
        {
          "output_type": "stream",
          "text": [
            "True\n"
          ],
          "name": "stdout"
        }
      ]
    },
    {
      "cell_type": "code",
      "metadata": {
        "id": "XjUQIh9kn0rM"
      },
      "source": [
        "\n",
        "train_dataloader = torch.utils.data.DataLoader(train_dl, shuffle = True, batch_size = 128, num_workers = 4)\n",
        "valid_dataloader = torch.utils.data.DataLoader(valid_dl, shuffle = True, batch_size = 128, num_workers = 4)\n",
        "test_dataloader = torch.utils.data.DataLoader(test_dl, shuffle = True, batch_size = 128, num_workers = 4)\n",
        "\n"
      ],
      "execution_count": null,
      "outputs": []
    },
    {
      "cell_type": "markdown",
      "metadata": {
        "id": "RKsSKV7Jtb7G"
      },
      "source": [
        "# Transfer Learning"
      ]
    },
    {
      "cell_type": "code",
      "metadata": {
        "id": "xhI3Gz2kDbey"
      },
      "source": [
        "from __future__ import print_function, division\n",
        "\n",
        "import torch\n",
        "import torch.nn as nn\n",
        "import torch.optim as optim\n",
        "from torch.optim import lr_scheduler\n",
        "import numpy as np\n",
        "import torchvision\n",
        "from torchvision import datasets, models, transforms\n",
        "import matplotlib.pyplot as plt\n",
        "import time\n",
        "import os\n",
        "import copy"
      ],
      "execution_count": null,
      "outputs": []
    },
    {
      "cell_type": "code",
      "metadata": {
        "id": "eCSZRL7T8jrQ",
        "colab": {
          "base_uri": "https://localhost:8080/"
        },
        "outputId": "4bcbe50c-7366-4089-cb57-2130712aee0a"
      },
      "source": [
        "dataloaders = {}\n",
        "\n",
        "dataloaders[\"train\"] = train_dataloader\n",
        "dataloaders[\"valid\"] = valid_dataloader\n",
        "dataloaders[\"test\"] = test_dataloader\n",
        "\n",
        "dataset_sizes = {}\n",
        "\n",
        "dataset_sizes[\"train\"] = len(train_dataloader.dataset)\n",
        "dataset_sizes[\"valid\"] = len(valid_dataloader.dataset)\n",
        "dataset_sizes[\"test\"] = len(test_dataloader.dataset)\n",
        "\n",
        "\n",
        "\n",
        "class_names = list(label_df.columns)\n",
        "print(class_names)\n",
        "\n",
        "device = torch.device(\"cuda\" if torch.cuda.is_available() else \"cpu\")\n",
        "\n",
        "\n",
        "# Get a batch of training data\n",
        "inputs, classes = next(iter(dataloaders[\"train\"]))\n",
        "print(device)\n",
        "\n"
      ],
      "execution_count": null,
      "outputs": [
        {
          "output_type": "stream",
          "text": [
            "81385\n",
            "['5_o_Clock_Shadow', 'Arched_Eyebrows', 'Attractive', 'Bags_Under_Eyes', 'Bald', 'Bangs', 'Big_Lips', 'Big_Nose', 'Black_Hair', 'Blond_Hair', 'Blurry', 'Brown_Hair', 'Bushy_Eyebrows', 'Chubby', 'Double_Chin', 'Eyeglasses', 'Goatee', 'Gray_Hair', 'Heavy_Makeup', 'High_Cheekbones', 'Male', 'Mouth_Slightly_Open', 'Mustache', 'Narrow_Eyes', 'No_Beard', 'Oval_Face', 'Pale_Skin', 'Pointy_Nose', 'Receding_Hairline', 'Rosy_Cheeks', 'Sideburns', 'Smiling', 'Straight_Hair', 'Wavy_Hair', 'Wearing_Earrings', 'Wearing_Hat', 'Wearing_Lipstick', 'Wearing_Necklace', 'Wearing_Necktie', 'Young']\n",
            "cuda\n"
          ],
          "name": "stdout"
        }
      ]
    },
    {
      "cell_type": "code",
      "metadata": {
        "id": "jq3KGESMD_y7"
      },
      "source": [
        "def train_model(model, criterion, optimizer, scheduler, num_epochs=25):\n",
        "    since = time.time()\n",
        "\n",
        "    decision_value = 0.5\n",
        "\n",
        "    best_model_wts = copy.deepcopy(model.state_dict())\n",
        "    best_acc = 0.0\n",
        "\n",
        "    for epoch in range(num_epochs):\n",
        "        print('Epoch {}/{}'.format(epoch, num_epochs - 1))\n",
        "        print('-' * 10)\n",
        "\n",
        "        # Each epoch has a training and validation phase\n",
        "        for phase in ['train', 'valid']:\n",
        "            if phase == 'train':\n",
        "                # print(\"train\")\n",
        "                model.train()  # Set model to training mode\n",
        "            else:\n",
        "                print(\"eval\")\n",
        "                model.eval()   # Set model to evaluate mode\n",
        "\n",
        "            running_loss = 0.0\n",
        "            running_corrects = 0\n",
        "\n",
        "            running_true_positive = 0\n",
        "            running_true_negative = 0\n",
        "            running_false_positive = 0\n",
        "            running_false_negative = 0\n",
        "\n",
        "            # Iterate over data.\n",
        "            for i, data in enumerate(dataloaders[phase]):\n",
        "                inputs, labels = data['image'].float().cuda(), data['label'].float().cuda()\n",
        "\n",
        "\n",
        "                inputs, labels = Variable(inputs), Variable(labels)\n",
        "\n",
        "                inputs = inputs.to(device)\n",
        "                labels = labels.to(device)\n",
        "                # zero the parameter gradients\n",
        "                optimizer.zero_grad()\n",
        "\n",
        "                # forward\n",
        "                # track history if only in train\n",
        "                with torch.set_grad_enabled(phase == 'train'):\n",
        "                    outputs = model(inputs)\n",
        "                  \n",
        "                    loss = criterion(outputs, labels)\n",
        "                   \n",
        "                    normalised_outputs = torch.gt(outputs, decision_value).int()\n",
        "                   \n",
        "                    # backward + optimize only if in training phase\n",
        "                    if phase == 'train':\n",
        "                        loss.backward()\n",
        "                        optimizer.step()\n",
        "\n",
        "                    outputs.detach()\n",
        "\n",
        "\n",
        "                # statistics\n",
        "                running_loss += loss.item() * inputs.size(0)\n",
        "                print(normalised_outputs)\n",
        "                print(labels.data)\n",
        "                \n",
        "                N = normalised_outputs.size(0)\n",
        "                C = normalised_outputs.size(1)\n",
        "                \n",
        "                accuracy = torch.sum(normalised_outputs == labels.data)/(N*C) * 100\n",
        "                running_corrects += accuracy\n",
        "\n",
        "                batch_acc = train_accuracy(normalised_outputs.to(\"cpu\"), labels.data.to(\"cpu\"))\n",
        "\n",
        "\n",
        "                true_positive = (labels.data * normalised_outputs).sum().to(torch.float32)\n",
        "                true_negative = ((1 - labels.data) * (1 - normalised_outputs)).sum().to(torch.float32)\n",
        "                false_positive = ((1 - labels.data) * normalised_outputs).sum().to(torch.float32)\n",
        "                false_negative = (labels.data * (1 - normalised_outputs)).sum().to(torch.float32)\n",
        "\n",
        "                running_true_positive += true_positive\n",
        "                running_true_negative += true_negative \n",
        "                running_false_positive += false_positive\n",
        "                running_false_negative += false_negative\n",
        "\n",
        "\n",
        "\n",
        "                \n",
        "            if phase == 'train':\n",
        "                scheduler.step()\n",
        "\n",
        "\n",
        "            epoch_loss = running_loss / dataset_sizes[phase]\n",
        "            epoch_acc = running_corrects.double() / dataset_sizes[phase]\n",
        "\n",
        "            epoch_true_positive = running_true_positive / dataset_sizes[phase]\n",
        "            epoch_false_positive = running_false_positive / dataset_sizes[phase]\n",
        "            epoch_false_negative = running_false_negative / dataset_sizes[phase]\n",
        "            \n",
        "            # total accuracy over all training batches\n",
        "            total_train_accuracy = train_accuracy.compute()\n",
        "\n",
        "            epsilon = 1e-7\n",
        "    \n",
        "            precision = epoch_true_positive / (epoch_true_positive + epoch_false_positive + epsilon)\n",
        "            recall = epoch_true_positive / (epoch_true_positive + epoch_false_negative + epsilon)\n",
        "          \n",
        "            f1 = 2* (precision*recall) / (precision + recall + epsilon)\n",
        "  \n",
        "\n",
        "            print('{} Loss: {:.4f} Acc: {:.4f} Train Acc {:.4f}'.format(\n",
        "                phase, epoch_loss, epoch_acc, total_train_accuracy))\n",
        "            \n",
        "            print(\"Precision: {:.4f} Recall: {:.4f} F1 Score: {:.4f}\".format(precision, recall, f1))\n",
        "\n",
        "            # deep copy the model\n",
        "            if phase == 'valid' and epoch_acc > best_acc:\n",
        "                valid_accuracy(normalised_outputs, labels.data)\n",
        "                best_acc = epoch_acc\n",
        "                best_model_wts = copy.deepcopy(model.state_dict())\n",
        "\n",
        "                total_valid_accuracy = valid_accuracy.compute() \n",
        "                print(\"total valid accuracy {:.4f}\".format(total_valid_accuracy))\n",
        "\n",
        "                torch.save(model, \"model_in_epocs\")\n",
        "\n",
        "            inputs.detach()\n",
        "            labels.detach()\n",
        "                \n",
        "            torch.cuda.empty_cache() \n",
        "\n",
        "\n",
        "        print()\n",
        "\n",
        "    time_elapsed = time.time() - since\n",
        "    print('Training complete in {:.0f}m {:.0f}s'.format(\n",
        "        time_elapsed // 60, time_elapsed % 60))\n",
        "    print('Best val Acc: {:4f}'.format(best_acc))\n",
        "\n",
        "    # load best model weights\n",
        "    model.load_state_dict(best_model_wts)\n",
        "    return model"
      ],
      "execution_count": null,
      "outputs": []
    },
    {
      "cell_type": "code",
      "metadata": {
        "id": "WIPhp1Iz_IFf"
      },
      "source": [
        "def test_model(model, criterion):\n",
        "    since = time.time()\n",
        "\n",
        "    decision_value = 0.5\n",
        "\n",
        "    best_acc = 0.0\n",
        "\n",
        "    # Set model to evaluate mode\n",
        "    model.eval()\n",
        "\n",
        "    running_loss = 0.0\n",
        "    running_corrects = 0\n",
        "\n",
        "    running_true_positive = 0\n",
        "    running_true_negative = 0\n",
        "    running_false_positive = 0\n",
        "    running_false_negative = 0\n",
        "\n",
        "    # Iterate over data.\n",
        "    for i, data in enumerate(dataloaders[\"test\"]):\n",
        "\n",
        "        inputs, labels = data['image'].float().cuda(), data['label'].float().cuda()\n",
        "\n",
        "\n",
        "        inputs, labels = Variable(inputs), Variable(labels)\n",
        "\n",
        "        inputs = inputs.to(device)\n",
        "        labels = labels.to(device)\n",
        "\n",
        "\n",
        "        # track history if only in train\n",
        "        with torch.set_grad_enabled(False):\n",
        "            outputs = model(inputs)\n",
        "            loss = criterion(outputs, labels)\n",
        "            normalised_outputs = torch.gt(outputs, decision_value).int()\n",
        "            outputs.detach()\n",
        "\n",
        "\n",
        "        # statistics\n",
        "        running_loss += loss.item() * inputs.size(0)\n",
        "        \n",
        "        N = normalised_outputs.size(0)\n",
        "        C = normalised_outputs.size(1)\n",
        "        \n",
        "        accuracy = torch.sum(normalised_outputs == labels.data)/(N*C) * 100\n",
        "        running_corrects += accuracy\n",
        "\n",
        "        batch_acc = train_accuracy(normalised_outputs.to(\"cpu\"), labels.data.to(\"cpu\"))\n",
        "\n",
        "\n",
        "        true_positive = (labels.data * normalised_outputs).sum().to(torch.float32)\n",
        "        true_negative = ((1 - labels.data) * (1 - normalised_outputs)).sum().to(torch.float32)\n",
        "        false_positive = ((1 - labels.data) * normalised_outputs).sum().to(torch.float32)\n",
        "        false_negative = (labels.data * (1 - normalised_outputs)).sum().to(torch.float32)\n",
        "\n",
        "        running_true_positive += true_positive\n",
        "        running_true_negative += true_negative \n",
        "        running_false_positive += false_positive\n",
        "        running_false_negative += false_negative\n",
        "\n",
        "\n",
        "\n",
        "    epoch_loss = running_loss / dataset_sizes[\"test\"]\n",
        "    epoch_acc = running_corrects.double() / dataset_sizes[\"test\"]\n",
        "\n",
        "    epoch_true_positive = running_true_positive / dataset_sizes[\"test\"]\n",
        "    epoch_false_positive = running_false_positive / dataset_sizes[\"test\"]\n",
        "    epoch_false_negative = running_false_negative / dataset_sizes[\"test\"]\n",
        "    # total accuracy over all training batches\n",
        "    total_train_accuracy = train_accuracy.compute()\n",
        "\n",
        "    epsilon = 1e-7\n",
        "\n",
        "    precision = epoch_true_positive / (epoch_true_positive + epoch_false_positive + epsilon)\n",
        "    recall = epoch_true_positive / (epoch_true_positive + epoch_false_negative + epsilon)\n",
        "\n",
        "    f1 = 2* (precision*recall) / (precision + recall + epsilon)\n",
        "\n",
        "\n",
        "    print('{} Loss: {:.4f} Acc: {:.4f} Test Acc {:.4f}'.format(\n",
        "        \"test\", epoch_loss, epoch_acc, total_train_accuracy))\n",
        "    \n",
        "    print(\"Precision: {:.4f} Recall: {:.4f} F1 Score: {:.4f}\".format(precision, recall, f1))\n",
        "\n",
        "    inputs.detach()\n",
        "    labels.detach()\n",
        "        \n",
        "    torch.cuda.empty_cache() \n",
        "\n",
        "\n",
        "    print()\n",
        "\n",
        "    time_elapsed = time.time() - since\n",
        "    print('Testing complete in {:.0f}m {:.0f}s'.format(\n",
        "        time_elapsed // 60, time_elapsed % 60))\n",
        "\n",
        "    return model"
      ],
      "execution_count": null,
      "outputs": []
    },
    {
      "cell_type": "code",
      "metadata": {
        "id": "slAZVtNVmaFP"
      },
      "source": [
        "def imshow(inp, title=None):\n",
        "    \"\"\"Imshow for Tensor.\"\"\"\n",
        "    inp = inp.numpy().transpose((1, 2, 0))\n",
        "    mean = np.array([0.485, 0.456, 0.406])\n",
        "    std = np.array([0.229, 0.224, 0.225])\n",
        "    inp = std * inp + mean\n",
        "    inp = np.clip(inp, 0, 1)\n",
        "    plt.imshow(inp)\n",
        "    if title is not None:\n",
        "        plt.title(title)\n",
        "    plt.pause(0.001)  # pause a bit so that plots are updated\n"
      ],
      "execution_count": null,
      "outputs": []
    },
    {
      "cell_type": "code",
      "metadata": {
        "id": "51s5MlZ_CcyO"
      },
      "source": [
        "def visualize_model(model, num_images=6):\n",
        "    was_training = model.training\n",
        "    model.eval()\n",
        "    images_so_far = 0\n",
        "    fig = plt.figure()\n",
        "\n",
        "    decision_value = 0.8\n",
        "\n",
        "\n",
        "    with torch.no_grad():\n",
        "        for i, data in enumerate(dataloaders['test']):\n",
        "            inputs, labels = data['image'].float().cuda(), data['label'].float().cuda()\n",
        "            inputs = inputs.to(device)\n",
        "            labels = labels.to(device)\n",
        "\n",
        "            outputs = model(inputs)\n",
        "            normalised_outputs = torch.gt(outputs, decision_value).int()\n",
        "\n",
        "            for j in range(inputs.size()[0]):\n",
        "                images_so_far += 1\n",
        "                ax = plt.subplot(num_images//2, 2, images_so_far)\n",
        "                ax.axis('off')\n",
        "\n",
        "                print(normalised_outputs)\n",
        "                title = get_labels_from_index_as_string(normalised_outputs.tolist()[j])\n",
        "                ground_truth = get_labels_from_index_as_string(labels.tolist()[j])\n",
        "                print(\"Preidcted {}\".format(title))\n",
        "                print(\"Ground Truth {}\".format(ground_truth))\n",
        "                ax.set_title('predicted: {}\\nground truth {}'.format(title,ground_truth ))\n",
        "                imshow(inputs.cpu().data[j])\n",
        "\n",
        "                if images_so_far == num_images:\n",
        "                    model.train(mode=was_training)\n",
        "                    return\n",
        "        model.train(mode=was_training)"
      ],
      "execution_count": null,
      "outputs": []
    },
    {
      "cell_type": "code",
      "metadata": {
        "id": "crHjEk8P96Pb",
        "colab": {
          "base_uri": "https://localhost:8080/"
        },
        "outputId": "d35bb267-5f60-45ee-e4e2-e9fd7c461239"
      },
      "source": [
        "! nvidia-smi"
      ],
      "execution_count": null,
      "outputs": [
        {
          "output_type": "stream",
          "text": [
            "Sat Nov 21 22:22:03 2020       \n",
            "+-----------------------------------------------------------------------------+\n",
            "| NVIDIA-SMI 455.38       Driver Version: 418.67       CUDA Version: 10.1     |\n",
            "|-------------------------------+----------------------+----------------------+\n",
            "| GPU  Name        Persistence-M| Bus-Id        Disp.A | Volatile Uncorr. ECC |\n",
            "| Fan  Temp  Perf  Pwr:Usage/Cap|         Memory-Usage | GPU-Util  Compute M. |\n",
            "|                               |                      |               MIG M. |\n",
            "|===============================+======================+======================|\n",
            "|   0  Tesla T4            Off  | 00000000:00:04.0 Off |                    0 |\n",
            "| N/A   40C    P8     9W /  70W |     10MiB / 15079MiB |      0%      Default |\n",
            "|                               |                      |                 ERR! |\n",
            "+-------------------------------+----------------------+----------------------+\n",
            "                                                                               \n",
            "+-----------------------------------------------------------------------------+\n",
            "| Processes:                                                                  |\n",
            "|  GPU   GI   CI        PID   Type   Process name                  GPU Memory |\n",
            "|        ID   ID                                                   Usage      |\n",
            "|=============================================================================|\n",
            "|  No running processes found                                                 |\n",
            "+-----------------------------------------------------------------------------+\n"
          ],
          "name": "stdout"
        }
      ]
    },
    {
      "cell_type": "code",
      "metadata": {
        "id": "_jSY87Zu4CD7"
      },
      "source": [
        "#set to true if you want to load the model rather than start afresh with Resnet\n",
        "\n",
        "contine_training = True\n",
        "model_name = \"model_22_11_v3_epochs\"\n",
        "model_save_name = \"model_22_11_v4_epochs\""
      ],
      "execution_count": null,
      "outputs": []
    },
    {
      "cell_type": "code",
      "metadata": {
        "id": "DvKI-wV8QdI0"
      },
      "source": [
        "#! pip3 install pytorch_lightning"
      ],
      "execution_count": null,
      "outputs": []
    },
    {
      "cell_type": "code",
      "metadata": {
        "id": "l3qW2xph5skx",
        "colab": {
          "base_uri": "https://localhost:8080/"
        },
        "outputId": "a80aeefb-119f-404f-d4e7-67d7be6a0705"
      },
      "source": [
        "import os\n",
        "os.environ['CUDA_LAUNCH_BLOCKING'] = \"1\"\n",
        "import torch\n",
        "from pytorch_lightning import metrics\n",
        "import torch.nn as nn\n",
        "\n",
        "torch.cuda.empty_cache()\n",
        "\n",
        "if not contine_training:\n",
        "  print(\"Loading pretrained resnet\")\n",
        "  model_ft = models.resnet18(pretrained=True)\n",
        "  num_ftrs = model_ft.fc.in_features\n",
        "\n",
        "\n",
        "  model_ft.fc = nn.Sequential(\n",
        "      nn.Linear(num_ftrs, len(class_names)),\n",
        "      nn.Sigmoid()\n",
        "  )\n",
        "\n",
        "  for name,param in model_ft.named_parameters():\n",
        "    if param.requires_grad == True:\n",
        "      print(\"\\t\",name)\n",
        "else:\n",
        "  print(\"Loading previous model\")\n",
        "  model_ft = torch.load(\"/content/drive/My Drive/ml_datasets/CELEBA/Saved Models/\" + model_name)\n",
        "\n",
        "print(torch.cuda.get_device_name(0))\n",
        "\n",
        "device = torch.device(\n",
        "            \"cuda\" if torch.cuda.is_available() else \"cpu\")\n",
        "\n",
        "\n",
        "train_accuracy = metrics.Accuracy()\n",
        "valid_accuracy = metrics.Accuracy(compute_on_step=False)\n",
        "\n",
        "\n",
        "model_ft = model_ft.to(device)\n",
        "\n",
        "criterion = nn.BCELoss()\n",
        "\n",
        "lr = 0.01\n",
        "\n",
        "optimizer_ft = optim.Adam(model_ft.parameters(), lr)\n",
        "\n",
        "# Decay LR by a factor of 0.1 every 7 epochs\n",
        "exp_lr_scheduler = lr_scheduler.StepLR(optimizer_ft, step_size=7, gamma=0.1)\n",
        "\n"
      ],
      "execution_count": null,
      "outputs": [
        {
          "output_type": "stream",
          "text": [
            "Loading previous model\n",
            "Tesla T4\n",
            "cuda\n"
          ],
          "name": "stdout"
        }
      ]
    },
    {
      "cell_type": "code",
      "metadata": {
        "id": "RZXCGBvtCf_o",
        "colab": {
          "base_uri": "https://localhost:8080/"
        },
        "outputId": "12e9bcde-70cd-409b-a231-2d36d2fcd815"
      },
      "source": [
        "\n",
        "model_ft = train_model(model_ft, criterion, optimizer_ft, exp_lr_scheduler,\n",
        "                       num_epochs=30)\n",
        "\n",
        "torch.save(model_ft, model_save_name)\n"
      ],
      "execution_count": null,
      "outputs": [
        {
          "output_type": "stream",
          "text": [
            "Epoch 0/29\n",
            "----------\n",
            "train Loss: 0.1509 Acc: 0.7302 Train Acc 0.9344\n",
            "Precision: 0.8803 Recall: 0.8215 F1 Score: 0.8499\n",
            "eval\n",
            "valid Loss: 0.2217 Acc: 0.7142 Train Acc 0.9094\n",
            "Precision: 0.8078 Recall: 0.7874 F1 Score: 0.7974\n",
            "total valid accuracy 0.9033\n",
            "\n",
            "Epoch 1/29\n",
            "----------\n",
            "train Loss: 0.1427 Acc: 0.7331 Train Acc 0.9382\n",
            "Precision: 0.8858 Recall: 0.8339 F1 Score: 0.8590\n",
            "eval\n",
            "valid Loss: 0.2168 Acc: 0.7145 Train Acc 0.9098\n",
            "Precision: 0.8326 Recall: 0.7535 F1 Score: 0.7911\n",
            "total valid accuracy 0.9062\n",
            "\n",
            "Epoch 2/29\n",
            "----------\n",
            "train Loss: 0.1345 Acc: 0.7361 Train Acc 0.9420\n",
            "Precision: 0.8920 Recall: 0.8454 F1 Score: 0.8681\n",
            "eval\n",
            "valid Loss: 0.2226 Acc: 0.7133 Train Acc 0.9083\n",
            "Precision: 0.8191 Recall: 0.7639 F1 Score: 0.7906\n",
            "\n",
            "Epoch 3/29\n",
            "----------\n",
            "train Loss: 0.1265 Acc: 0.7390 Train Acc 0.9457\n",
            "Precision: 0.8978 Recall: 0.8571 F1 Score: 0.8769\n",
            "eval\n",
            "valid Loss: 0.2312 Acc: 0.7133 Train Acc 0.9082\n",
            "Precision: 0.8135 Recall: 0.7717 F1 Score: 0.7921\n",
            "\n",
            "Epoch 4/29\n",
            "----------\n",
            "train Loss: 0.1183 Acc: 0.7420 Train Acc 0.9495\n",
            "Precision: 0.9042 Recall: 0.8684 F1 Score: 0.8860\n",
            "eval\n",
            "valid Loss: 0.2386 Acc: 0.7114 Train Acc 0.9059\n",
            "Precision: 0.8009 Recall: 0.7780 F1 Score: 0.7893\n",
            "\n",
            "Epoch 5/29\n",
            "----------\n",
            "train Loss: 0.1109 Acc: 0.7447 Train Acc 0.9529\n",
            "Precision: 0.9095 Recall: 0.8790 F1 Score: 0.8940\n",
            "eval\n",
            "valid Loss: 0.2667 Acc: 0.7110 Train Acc 0.9054\n",
            "Precision: 0.8127 Recall: 0.7566 F1 Score: 0.7837\n",
            "\n",
            "Epoch 6/29\n",
            "----------\n",
            "train Loss: 0.0760 Acc: 0.7575 Train Acc 0.9693\n",
            "Precision: 0.9411 Recall: 0.9216 F1 Score: 0.9313\n",
            "eval\n",
            "valid Loss: 0.2862 Acc: 0.7136 Train Acc 0.9087\n",
            "Precision: 0.8142 Recall: 0.7731 F1 Score: 0.7931\n",
            "\n",
            "Epoch 7/29\n",
            "----------\n",
            "train Loss: 0.0634 Acc: 0.7619 Train Acc 0.9750\n",
            "Precision: 0.9514 Recall: 0.9373 F1 Score: 0.9443\n",
            "eval\n",
            "valid Loss: 0.3102 Acc: 0.7135 Train Acc 0.9084\n",
            "Precision: 0.8106 Recall: 0.7774 F1 Score: 0.7937\n",
            "\n",
            "Epoch 8/29\n",
            "----------\n",
            "train Loss: 0.0566 Acc: 0.7642 Train Acc 0.9779\n",
            "Precision: 0.9569 Recall: 0.9448 F1 Score: 0.9508\n",
            "eval\n",
            "valid Loss: 0.3351 Acc: 0.7126 Train Acc 0.9074\n",
            "Precision: 0.8042 Recall: 0.7812 F1 Score: 0.7925\n",
            "\n",
            "Epoch 9/29\n",
            "----------\n",
            "train Loss: 0.0508 Acc: 0.7662 Train Acc 0.9805\n",
            "Precision: 0.9618 Recall: 0.9513 F1 Score: 0.9565\n",
            "eval\n",
            "valid Loss: 0.3556 Acc: 0.7118 Train Acc 0.9064\n",
            "Precision: 0.8010 Recall: 0.7807 F1 Score: 0.7907\n",
            "\n",
            "Epoch 10/29\n",
            "----------\n",
            "train Loss: 0.0460 Acc: 0.7680 Train Acc 0.9827\n",
            "Precision: 0.9663 Recall: 0.9569 F1 Score: 0.9616\n",
            "eval\n",
            "valid Loss: 0.3787 Acc: 0.7116 Train Acc 0.9061\n",
            "Precision: 0.8031 Recall: 0.7755 F1 Score: 0.7891\n",
            "\n",
            "Epoch 11/29\n",
            "----------\n",
            "train Loss: 0.0418 Acc: 0.7693 Train Acc 0.9845\n",
            "Precision: 0.9696 Recall: 0.9613 F1 Score: 0.9655\n",
            "eval\n",
            "valid Loss: 0.4055 Acc: 0.7106 Train Acc 0.9048\n",
            "Precision: 0.7964 Recall: 0.7790 F1 Score: 0.7876\n",
            "\n",
            "Epoch 12/29\n",
            "----------\n",
            "train Loss: 0.0378 Acc: 0.7706 Train Acc 0.9862\n",
            "Precision: 0.9729 Recall: 0.9656 F1 Score: 0.9692\n",
            "eval\n",
            "valid Loss: 0.4322 Acc: 0.7107 Train Acc 0.9049\n",
            "Precision: 0.7987 Recall: 0.7756 F1 Score: 0.7870\n",
            "\n",
            "Epoch 13/29\n",
            "----------\n",
            "train Loss: 0.0315 Acc: 0.7733 Train Acc 0.9895\n",
            "Precision: 0.9801 Recall: 0.9735 F1 Score: 0.9768\n",
            "eval\n",
            "valid Loss: 0.4393 Acc: 0.7106 Train Acc 0.9048\n",
            "Precision: 0.8003 Recall: 0.7725 F1 Score: 0.7862\n",
            "\n",
            "Epoch 14/29\n",
            "----------\n",
            "train Loss: 0.0305 Acc: 0.7736 Train Acc 0.9899\n",
            "Precision: 0.9807 Recall: 0.9745 F1 Score: 0.9776\n",
            "eval\n",
            "valid Loss: 0.4490 Acc: 0.7105 Train Acc 0.9048\n",
            "Precision: 0.8015 Recall: 0.7704 F1 Score: 0.7856\n",
            "\n",
            "Epoch 15/29\n",
            "----------\n",
            "train Loss: 0.0299 Acc: 0.7737 Train Acc 0.9901\n",
            "Precision: 0.9812 Recall: 0.9750 F1 Score: 0.9781\n",
            "eval\n",
            "valid Loss: 0.4527 Acc: 0.7105 Train Acc 0.9047\n",
            "Precision: 0.8008 Recall: 0.7709 F1 Score: 0.7856\n",
            "\n",
            "Epoch 16/29\n",
            "----------\n",
            "train Loss: 0.0294 Acc: 0.7739 Train Acc 0.9903\n",
            "Precision: 0.9816 Recall: 0.9755 F1 Score: 0.9785\n",
            "eval\n",
            "valid Loss: 0.4579 Acc: 0.7105 Train Acc 0.9046\n",
            "Precision: 0.7999 Recall: 0.7722 F1 Score: 0.7858\n",
            "\n",
            "Epoch 17/29\n",
            "----------\n",
            "train Loss: 0.0290 Acc: 0.7741 Train Acc 0.9905\n",
            "Precision: 0.9818 Recall: 0.9762 F1 Score: 0.9790\n",
            "eval\n",
            "valid Loss: 0.4626 Acc: 0.7105 Train Acc 0.9047\n",
            "Precision: 0.8008 Recall: 0.7709 F1 Score: 0.7855\n",
            "\n",
            "Epoch 18/29\n",
            "----------\n",
            "train Loss: 0.0286 Acc: 0.7742 Train Acc 0.9907\n",
            "Precision: 0.9821 Recall: 0.9765 F1 Score: 0.9793\n",
            "eval\n",
            "valid Loss: 0.4647 Acc: 0.7103 Train Acc 0.9045\n",
            "Precision: 0.7998 Recall: 0.7713 F1 Score: 0.7853\n",
            "\n",
            "Epoch 19/29\n",
            "----------\n",
            "train Loss: 0.0281 Acc: 0.7743 Train Acc 0.9909\n",
            "Precision: 0.9825 Recall: 0.9770 F1 Score: 0.9797\n",
            "eval\n",
            "valid Loss: 0.4728 Acc: 0.7104 Train Acc 0.9046\n",
            "Precision: 0.7996 Recall: 0.7721 F1 Score: 0.7856\n",
            "\n",
            "Epoch 20/29\n",
            "----------\n",
            "train Loss: 0.0273 Acc: 0.7746 Train Acc 0.9912\n",
            "Precision: 0.9835 Recall: 0.9777 F1 Score: 0.9806\n",
            "eval\n",
            "valid Loss: 0.4746 Acc: 0.7104 Train Acc 0.9045\n",
            "Precision: 0.8000 Recall: 0.7714 F1 Score: 0.7854\n",
            "\n",
            "Epoch 21/29\n",
            "----------\n",
            "train Loss: 0.0273 Acc: 0.7746 Train Acc 0.9912\n",
            "Precision: 0.9832 Recall: 0.9780 F1 Score: 0.9806\n",
            "eval\n",
            "valid Loss: 0.4725 Acc: 0.7103 Train Acc 0.9044\n",
            "Precision: 0.8004 Recall: 0.7698 F1 Score: 0.7848\n",
            "\n",
            "Epoch 22/29\n",
            "----------\n",
            "train Loss: 0.0273 Acc: 0.7747 Train Acc 0.9913\n",
            "Precision: 0.9834 Recall: 0.9780 F1 Score: 0.9807\n",
            "eval\n",
            "valid Loss: 0.4755 Acc: 0.7102 Train Acc 0.9043\n",
            "Precision: 0.8009 Recall: 0.7688 F1 Score: 0.7845\n",
            "\n",
            "Epoch 23/29\n",
            "----------\n",
            "train Loss: 0.0271 Acc: 0.7747 Train Acc 0.9913\n",
            "Precision: 0.9836 Recall: 0.9779 F1 Score: 0.9808\n",
            "eval\n",
            "valid Loss: 0.4753 Acc: 0.7103 Train Acc 0.9044\n",
            "Precision: 0.8011 Recall: 0.7691 F1 Score: 0.7848\n",
            "\n",
            "Epoch 24/29\n",
            "----------\n",
            "train Loss: 0.0271 Acc: 0.7747 Train Acc 0.9913\n",
            "Precision: 0.9835 Recall: 0.9780 F1 Score: 0.9808\n",
            "eval\n",
            "valid Loss: 0.4788 Acc: 0.7102 Train Acc 0.9043\n",
            "Precision: 0.7981 Recall: 0.7730 F1 Score: 0.7854\n",
            "\n",
            "Epoch 25/29\n",
            "----------\n",
            "train Loss: 0.0272 Acc: 0.7746 Train Acc 0.9912\n",
            "Precision: 0.9834 Recall: 0.9778 F1 Score: 0.9806\n",
            "eval\n",
            "valid Loss: 0.4786 Acc: 0.7102 Train Acc 0.9044\n",
            "Precision: 0.8009 Recall: 0.7690 F1 Score: 0.7846\n",
            "\n",
            "Epoch 26/29\n",
            "----------\n",
            "train Loss: 0.0271 Acc: 0.7747 Train Acc 0.9913\n",
            "Precision: 0.9834 Recall: 0.9781 F1 Score: 0.9808\n",
            "eval\n",
            "valid Loss: 0.4811 Acc: 0.7103 Train Acc 0.9044\n",
            "Precision: 0.7992 Recall: 0.7722 F1 Score: 0.7854\n",
            "\n",
            "Epoch 27/29\n",
            "----------\n",
            "train Loss: 0.0270 Acc: 0.7747 Train Acc 0.9914\n",
            "Precision: 0.9834 Recall: 0.9783 F1 Score: 0.9808\n",
            "eval\n",
            "valid Loss: 0.4809 Acc: 0.7101 Train Acc 0.9041\n",
            "Precision: 0.7983 Recall: 0.7716 F1 Score: 0.7847\n",
            "\n",
            "Epoch 28/29\n",
            "----------\n",
            "train Loss: 0.0270 Acc: 0.7747 Train Acc 0.9913\n",
            "Precision: 0.9835 Recall: 0.9780 F1 Score: 0.9808\n",
            "eval\n",
            "valid Loss: 0.4747 Acc: 0.7100 Train Acc 0.9041\n",
            "Precision: 0.7989 Recall: 0.7705 F1 Score: 0.7844\n",
            "\n",
            "Epoch 29/29\n",
            "----------\n",
            "train Loss: 0.0271 Acc: 0.7747 Train Acc 0.9913\n",
            "Precision: 0.9834 Recall: 0.9781 F1 Score: 0.9807\n",
            "eval\n",
            "valid Loss: 0.4770 Acc: 0.7101 Train Acc 0.9042\n",
            "Precision: 0.7982 Recall: 0.7723 F1 Score: 0.7851\n",
            "\n",
            "Training complete in 180m 6s\n",
            "Best val Acc: 0.714517\n"
          ],
          "name": "stdout"
        }
      ]
    },
    {
      "cell_type": "code",
      "metadata": {
        "id": "LTrBvxnumiW6",
        "colab": {
          "base_uri": "https://localhost:8080/",
          "height": 1000
        },
        "outputId": "672e870a-a05c-4459-f9ee-bfdd05889eed"
      },
      "source": [
        "visualize_model(model_ft)"
      ],
      "execution_count": null,
      "outputs": [
        {
          "output_type": "stream",
          "text": [
            "tensor([[0, 0, 0,  ..., 0, 0, 1],\n",
            "        [0, 0, 0,  ..., 0, 0, 1],\n",
            "        [0, 0, 0,  ..., 0, 0, 1],\n",
            "        ...,\n",
            "        [0, 0, 0,  ..., 0, 0, 0],\n",
            "        [0, 0, 1,  ..., 0, 0, 1],\n",
            "        [0, 0, 1,  ..., 0, 0, 1]], device='cuda:0', dtype=torch.int32)\n",
            "[0, 0, 0, 0, 0, 0, 0, 0, 0, 0, 0, 0, 0, 0, 0, 0, 0, 0, 1, 0, 0, 0, 0, 0, 1, 0, 0, 0, 0, 0, 0, 0, 0, 0, 0, 0, 1, 0, 0, 1]\n",
            "[0.0, 0.0, 0.0, 1.0, 0.0, 0.0, 0.0, 0.0, 0.0, 0.0, 0.0, 1.0, 0.0, 0.0, 0.0, 0.0, 0.0, 0.0, 1.0, 0.0, 0.0, 0.0, 0.0, 0.0, 1.0, 0.0, 0.0, 1.0, 0.0, 0.0, 0.0, 0.0, 0.0, 1.0, 0.0, 0.0, 1.0, 0.0, 0.0, 1.0]\n",
            "Preidcted Heavy_Makeup No_Beard Wearing_Lipstick Young \n",
            "Ground Truth Bags_Under_Eyes Brown_Hair Heavy_Makeup No_Beard Pointy_Nose Wavy_Hair Wearing_Lipstick Young \n"
          ],
          "name": "stdout"
        },
        {
          "output_type": "display_data",
          "data": {
            "image/png": "[encoded data removed]",
            "text/plain": [
              "<Figure size 432x288 with 1 Axes>"
            ]
          },
          "metadata": {
            "tags": [],
            "needs_background": "light"
          }
        },
        {
          "output_type": "stream",
          "text": [
            "tensor([[0, 0, 0,  ..., 0, 0, 1],\n",
            "        [0, 0, 0,  ..., 0, 0, 1],\n",
            "        [0, 0, 0,  ..., 0, 0, 1],\n",
            "        ...,\n",
            "        [0, 0, 0,  ..., 0, 0, 0],\n",
            "        [0, 0, 1,  ..., 0, 0, 1],\n",
            "        [0, 0, 1,  ..., 0, 0, 1]], device='cuda:0', dtype=torch.int32)\n",
            "[0, 0, 0, 0, 0, 0, 1, 1, 0, 0, 0, 0, 0, 0, 0, 0, 0, 0, 0, 0, 1, 1, 0, 0, 0, 0, 0, 0, 0, 0, 0, 0, 0, 0, 0, 0, 0, 0, 0, 1]\n",
            "[0.0, 0.0, 0.0, 0.0, 0.0, 0.0, 1.0, 1.0, 0.0, 0.0, 0.0, 0.0, 0.0, 0.0, 0.0, 0.0, 1.0, 0.0, 0.0, 1.0, 1.0, 1.0, 0.0, 0.0, 0.0, 0.0, 0.0, 0.0, 0.0, 0.0, 0.0, 0.0, 0.0, 0.0, 0.0, 0.0, 0.0, 0.0, 0.0, 1.0]\n",
            "Preidcted Big_Lips Big_Nose Male Mouth_Slightly_Open Young \n",
            "Ground Truth Big_Lips Big_Nose Goatee High_Cheekbones Male Mouth_Slightly_Open Young \n"
          ],
          "name": "stdout"
        },
        {
          "output_type": "display_data",
          "data": {
            "image/png": "[encoded data removed]",
            "text/plain": [
              "<Figure size 432x288 with 1 Axes>"
            ]
          },
          "metadata": {
            "tags": [],
            "needs_background": "light"
          }
        },
        {
          "output_type": "stream",
          "text": [
            "tensor([[0, 0, 0,  ..., 0, 0, 1],\n",
            "        [0, 0, 0,  ..., 0, 0, 1],\n",
            "        [0, 0, 0,  ..., 0, 0, 1],\n",
            "        ...,\n",
            "        [0, 0, 0,  ..., 0, 0, 0],\n",
            "        [0, 0, 1,  ..., 0, 0, 1],\n",
            "        [0, 0, 1,  ..., 0, 0, 1]], device='cuda:0', dtype=torch.int32)\n",
            "[0, 0, 0, 0, 0, 0, 0, 0, 0, 0, 0, 0, 1, 0, 0, 0, 0, 0, 0, 0, 1, 0, 0, 0, 0, 0, 0, 0, 0, 0, 0, 0, 0, 0, 0, 0, 0, 0, 0, 1]\n",
            "[0.0, 1.0, 1.0, 0.0, 0.0, 0.0, 0.0, 0.0, 0.0, 0.0, 0.0, 0.0, 1.0, 0.0, 0.0, 0.0, 0.0, 0.0, 0.0, 0.0, 1.0, 0.0, 0.0, 0.0, 0.0, 0.0, 0.0, 0.0, 0.0, 0.0, 0.0, 0.0, 0.0, 0.0, 0.0, 0.0, 0.0, 0.0, 0.0, 1.0]\n",
            "Preidcted Bushy_Eyebrows Male Young \n",
            "Ground Truth Arched_Eyebrows Attractive Bushy_Eyebrows Male Young \n"
          ],
          "name": "stdout"
        },
        {
          "output_type": "display_data",
          "data": {
            "image/png": "[encoded data removed]",
            "text/plain": [
              "<Figure size 432x288 with 1 Axes>"
            ]
          },
          "metadata": {
            "tags": [],
            "needs_background": "light"
          }
        },
        {
          "output_type": "stream",
          "text": [
            "tensor([[0, 0, 0,  ..., 0, 0, 1],\n",
            "        [0, 0, 0,  ..., 0, 0, 1],\n",
            "        [0, 0, 0,  ..., 0, 0, 1],\n",
            "        ...,\n",
            "        [0, 0, 0,  ..., 0, 0, 0],\n",
            "        [0, 0, 1,  ..., 0, 0, 1],\n",
            "        [0, 0, 1,  ..., 0, 0, 1]], device='cuda:0', dtype=torch.int32)\n",
            "[0, 0, 1, 0, 0, 0, 0, 0, 0, 0, 0, 0, 0, 0, 0, 0, 0, 0, 1, 0, 0, 1, 0, 0, 1, 1, 0, 1, 0, 0, 0, 0, 0, 0, 0, 0, 1, 0, 0, 1]\n",
            "[0.0, 0.0, 1.0, 0.0, 0.0, 0.0, 0.0, 0.0, 0.0, 0.0, 0.0, 1.0, 0.0, 0.0, 0.0, 0.0, 0.0, 0.0, 1.0, 1.0, 0.0, 1.0, 0.0, 0.0, 1.0, 1.0, 0.0, 1.0, 0.0, 1.0, 0.0, 0.0, 1.0, 0.0, 0.0, 0.0, 1.0, 0.0, 0.0, 1.0]\n",
            "Preidcted Attractive Heavy_Makeup Mouth_Slightly_Open No_Beard Oval_Face Pointy_Nose Wearing_Lipstick Young \n",
            "Ground Truth Attractive Brown_Hair Heavy_Makeup High_Cheekbones Mouth_Slightly_Open No_Beard Oval_Face Pointy_Nose Rosy_Cheeks Straight_Hair Wearing_Lipstick Young \n"
          ],
          "name": "stdout"
        },
        {
          "output_type": "display_data",
          "data": {
            "image/png": "[encoded data removed]",
            "text/plain": [
              "<Figure size 432x288 with 1 Axes>"
            ]
          },
          "metadata": {
            "tags": [],
            "needs_background": "light"
          }
        },
        {
          "output_type": "stream",
          "text": [
            "tensor([[0, 0, 0,  ..., 0, 0, 1],\n",
            "        [0, 0, 0,  ..., 0, 0, 1],\n",
            "        [0, 0, 0,  ..., 0, 0, 1],\n",
            "        ...,\n",
            "        [0, 0, 0,  ..., 0, 0, 0],\n",
            "        [0, 0, 1,  ..., 0, 0, 1],\n",
            "        [0, 0, 1,  ..., 0, 0, 1]], device='cuda:0', dtype=torch.int32)\n",
            "[0, 0, 1, 0, 0, 0, 0, 0, 0, 0, 0, 1, 0, 0, 0, 0, 0, 0, 1, 0, 0, 1, 0, 0, 1, 0, 0, 0, 0, 0, 0, 1, 0, 0, 0, 0, 1, 0, 0, 1]\n",
            "[0.0, 1.0, 1.0, 0.0, 0.0, 0.0, 0.0, 0.0, 0.0, 0.0, 0.0, 1.0, 0.0, 0.0, 0.0, 0.0, 0.0, 0.0, 1.0, 0.0, 0.0, 1.0, 0.0, 0.0, 1.0, 1.0, 0.0, 0.0, 0.0, 0.0, 0.0, 1.0, 0.0, 0.0, 0.0, 0.0, 1.0, 0.0, 0.0, 1.0]\n",
            "Preidcted Attractive Brown_Hair Heavy_Makeup Mouth_Slightly_Open No_Beard Smiling Wearing_Lipstick Young \n",
            "Ground Truth Arched_Eyebrows Attractive Brown_Hair Heavy_Makeup Mouth_Slightly_Open No_Beard Oval_Face Smiling Wearing_Lipstick Young \n"
          ],
          "name": "stdout"
        },
        {
          "output_type": "display_data",
          "data": {
            "image/png": "[encoded data removed]",
            "text/plain": [
              "<Figure size 432x288 with 1 Axes>"
            ]
          },
          "metadata": {
            "tags": [],
            "needs_background": "light"
          }
        },
        {
          "output_type": "stream",
          "text": [
            "tensor([[0, 0, 0,  ..., 0, 0, 1],\n",
            "        [0, 0, 0,  ..., 0, 0, 1],\n",
            "        [0, 0, 0,  ..., 0, 0, 1],\n",
            "        ...,\n",
            "        [0, 0, 0,  ..., 0, 0, 0],\n",
            "        [0, 0, 1,  ..., 0, 0, 1],\n",
            "        [0, 0, 1,  ..., 0, 0, 1]], device='cuda:0', dtype=torch.int32)\n",
            "[0, 0, 0, 0, 0, 0, 0, 1, 0, 0, 0, 0, 0, 0, 1, 1, 0, 1, 0, 0, 1, 1, 0, 0, 1, 0, 0, 0, 1, 0, 0, 1, 0, 0, 0, 0, 0, 0, 0, 0]\n",
            "[0.0, 0.0, 0.0, 0.0, 0.0, 0.0, 0.0, 1.0, 0.0, 0.0, 0.0, 0.0, 0.0, 1.0, 1.0, 1.0, 0.0, 1.0, 0.0, 1.0, 1.0, 1.0, 0.0, 0.0, 1.0, 0.0, 0.0, 0.0, 1.0, 0.0, 0.0, 1.0, 0.0, 0.0, 0.0, 0.0, 0.0, 0.0, 1.0, 0.0]\n",
            "Preidcted Big_Nose Double_Chin Eyeglasses Gray_Hair Male Mouth_Slightly_Open No_Beard Receding_Hairline Smiling \n",
            "Ground Truth Big_Nose Chubby Double_Chin Eyeglasses Gray_Hair High_Cheekbones Male Mouth_Slightly_Open No_Beard Receding_Hairline Smiling Wearing_Necktie \n"
          ],
          "name": "stdout"
        },
        {
          "output_type": "display_data",
          "data": {
            "image/png": "[encoded data removed]",
            "text/plain": [
              "<Figure size 432x288 with 1 Axes>"
            ]
          },
          "metadata": {
            "tags": [],
            "needs_background": "light"
          }
        }
      ]
    },
    {
      "cell_type": "code",
      "metadata": {
        "colab": {
          "base_uri": "https://localhost:8080/"
        },
        "id": "WK8zYKJ1BSqx",
        "outputId": "cd2f2b8e-4041-4478-dca0-1617eed6b2d3"
      },
      "source": [
        "test_model(model_ft, criterion)"
      ],
      "execution_count": null,
      "outputs": [
        {
          "output_type": "stream",
          "text": [
            "test Loss: 0.2179 Acc: 0.7106 Test Acc 0.9092\n",
            "Precision: 0.8311 Recall: 0.7519 F1 Score: 0.7895\n",
            "\n",
            "Testing complete in 0m 31s\n"
          ],
          "name": "stdout"
        },
        {
          "output_type": "execute_result",
          "data": {
            "text/plain": [
              "ResNet(\n",
              "  (conv1): Conv2d(3, 64, kernel_size=(7, 7), stride=(2, 2), padding=(3, 3), bias=False)\n",
              "  (bn1): BatchNorm2d(64, eps=1e-05, momentum=0.1, affine=True, track_running_stats=True)\n",
              "  (relu): ReLU(inplace=True)\n",
              "  (maxpool): MaxPool2d(kernel_size=3, stride=2, padding=1, dilation=1, ceil_mode=False)\n",
              "  (layer1): Sequential(\n",
              "    (0): BasicBlock(\n",
              "      (conv1): Conv2d(64, 64, kernel_size=(3, 3), stride=(1, 1), padding=(1, 1), bias=False)\n",
              "      (bn1): BatchNorm2d(64, eps=1e-05, momentum=0.1, affine=True, track_running_stats=True)\n",
              "      (relu): ReLU(inplace=True)\n",
              "      (conv2): Conv2d(64, 64, kernel_size=(3, 3), stride=(1, 1), padding=(1, 1), bias=False)\n",
              "      (bn2): BatchNorm2d(64, eps=1e-05, momentum=0.1, affine=True, track_running_stats=True)\n",
              "    )\n",
              "    (1): BasicBlock(\n",
              "      (conv1): Conv2d(64, 64, kernel_size=(3, 3), stride=(1, 1), padding=(1, 1), bias=False)\n",
              "      (bn1): BatchNorm2d(64, eps=1e-05, momentum=0.1, affine=True, track_running_stats=True)\n",
              "      (relu): ReLU(inplace=True)\n",
              "      (conv2): Conv2d(64, 64, kernel_size=(3, 3), stride=(1, 1), padding=(1, 1), bias=False)\n",
              "      (bn2): BatchNorm2d(64, eps=1e-05, momentum=0.1, affine=True, track_running_stats=True)\n",
              "    )\n",
              "  )\n",
              "  (layer2): Sequential(\n",
              "    (0): BasicBlock(\n",
              "      (conv1): Conv2d(64, 128, kernel_size=(3, 3), stride=(2, 2), padding=(1, 1), bias=False)\n",
              "      (bn1): BatchNorm2d(128, eps=1e-05, momentum=0.1, affine=True, track_running_stats=True)\n",
              "      (relu): ReLU(inplace=True)\n",
              "      (conv2): Conv2d(128, 128, kernel_size=(3, 3), stride=(1, 1), padding=(1, 1), bias=False)\n",
              "      (bn2): BatchNorm2d(128, eps=1e-05, momentum=0.1, affine=True, track_running_stats=True)\n",
              "      (downsample): Sequential(\n",
              "        (0): Conv2d(64, 128, kernel_size=(1, 1), stride=(2, 2), bias=False)\n",
              "        (1): BatchNorm2d(128, eps=1e-05, momentum=0.1, affine=True, track_running_stats=True)\n",
              "      )\n",
              "    )\n",
              "    (1): BasicBlock(\n",
              "      (conv1): Conv2d(128, 128, kernel_size=(3, 3), stride=(1, 1), padding=(1, 1), bias=False)\n",
              "      (bn1): BatchNorm2d(128, eps=1e-05, momentum=0.1, affine=True, track_running_stats=True)\n",
              "      (relu): ReLU(inplace=True)\n",
              "      (conv2): Conv2d(128, 128, kernel_size=(3, 3), stride=(1, 1), padding=(1, 1), bias=False)\n",
              "      (bn2): BatchNorm2d(128, eps=1e-05, momentum=0.1, affine=True, track_running_stats=True)\n",
              "    )\n",
              "  )\n",
              "  (layer3): Sequential(\n",
              "    (0): BasicBlock(\n",
              "      (conv1): Conv2d(128, 256, kernel_size=(3, 3), stride=(2, 2), padding=(1, 1), bias=False)\n",
              "      (bn1): BatchNorm2d(256, eps=1e-05, momentum=0.1, affine=True, track_running_stats=True)\n",
              "      (relu): ReLU(inplace=True)\n",
              "      (conv2): Conv2d(256, 256, kernel_size=(3, 3), stride=(1, 1), padding=(1, 1), bias=False)\n",
              "      (bn2): BatchNorm2d(256, eps=1e-05, momentum=0.1, affine=True, track_running_stats=True)\n",
              "      (downsample): Sequential(\n",
              "        (0): Conv2d(128, 256, kernel_size=(1, 1), stride=(2, 2), bias=False)\n",
              "        (1): BatchNorm2d(256, eps=1e-05, momentum=0.1, affine=True, track_running_stats=True)\n",
              "      )\n",
              "    )\n",
              "    (1): BasicBlock(\n",
              "      (conv1): Conv2d(256, 256, kernel_size=(3, 3), stride=(1, 1), padding=(1, 1), bias=False)\n",
              "      (bn1): BatchNorm2d(256, eps=1e-05, momentum=0.1, affine=True, track_running_stats=True)\n",
              "      (relu): ReLU(inplace=True)\n",
              "      (conv2): Conv2d(256, 256, kernel_size=(3, 3), stride=(1, 1), padding=(1, 1), bias=False)\n",
              "      (bn2): BatchNorm2d(256, eps=1e-05, momentum=0.1, affine=True, track_running_stats=True)\n",
              "    )\n",
              "  )\n",
              "  (layer4): Sequential(\n",
              "    (0): BasicBlock(\n",
              "      (conv1): Conv2d(256, 512, kernel_size=(3, 3), stride=(2, 2), padding=(1, 1), bias=False)\n",
              "      (bn1): BatchNorm2d(512, eps=1e-05, momentum=0.1, affine=True, track_running_stats=True)\n",
              "      (relu): ReLU(inplace=True)\n",
              "      (conv2): Conv2d(512, 512, kernel_size=(3, 3), stride=(1, 1), padding=(1, 1), bias=False)\n",
              "      (bn2): BatchNorm2d(512, eps=1e-05, momentum=0.1, affine=True, track_running_stats=True)\n",
              "      (downsample): Sequential(\n",
              "        (0): Conv2d(256, 512, kernel_size=(1, 1), stride=(2, 2), bias=False)\n",
              "        (1): BatchNorm2d(512, eps=1e-05, momentum=0.1, affine=True, track_running_stats=True)\n",
              "      )\n",
              "    )\n",
              "    (1): BasicBlock(\n",
              "      (conv1): Conv2d(512, 512, kernel_size=(3, 3), stride=(1, 1), padding=(1, 1), bias=False)\n",
              "      (bn1): BatchNorm2d(512, eps=1e-05, momentum=0.1, affine=True, track_running_stats=True)\n",
              "      (relu): ReLU(inplace=True)\n",
              "      (conv2): Conv2d(512, 512, kernel_size=(3, 3), stride=(1, 1), padding=(1, 1), bias=False)\n",
              "      (bn2): BatchNorm2d(512, eps=1e-05, momentum=0.1, affine=True, track_running_stats=True)\n",
              "    )\n",
              "  )\n",
              "  (avgpool): AdaptiveAvgPool2d(output_size=(1, 1))\n",
              "  (fc): Sequential(\n",
              "    (0): Linear(in_features=512, out_features=40, bias=True)\n",
              "    (1): Sigmoid()\n",
              "  )\n",
              ")"
            ]
          },
          "metadata": {
            "tags": []
          },
          "execution_count": 80
        }
      ]
    },
    {
      "cell_type": "markdown",
      "metadata": {
        "id": "HTsS-SWIZL3r"
      },
      "source": [
        "# Inferencing"
      ]
    },
    {
      "cell_type": "code",
      "metadata": {
        "id": "vzU4MnqWZOAQ"
      },
      "source": [
        "import os\n",
        "os.environ['CUDA_LAUNCH_BLOCKING'] = \"1\"\n",
        "import torch\n",
        "import torch.nn as nn\n",
        "from torchvision import transforms\n",
        "from torch.autograd import Variable\n",
        "from PIL import Image \n",
        "import pandas as pd\n",
        "\n",
        "class CelebAModel():\n",
        "\n",
        "  def __init__(self, model_path, labels_path):\n",
        "    self.model_path = model_path\n",
        "    self.labels_path = labels_path\n",
        "    model = torch.load(self.model_path)\n",
        "\n",
        "    self.tfms = transforms.Compose([\n",
        "      transforms.Resize(256),\n",
        "      transforms.CenterCrop(224),\n",
        "      transforms.ToTensor(),\n",
        "      transforms.Normalize(mean=[0.485, 0.456, 0.406], std=[0.229, 0.224, 0.225]),\n",
        "    ])\n",
        "\n",
        "\n",
        "    labels_df = pd.read_csv(self.labels_path)\n",
        "    label_dict = {}\n",
        "    for i in range(1, len(labels_df)):\n",
        "      label_dict[labels_df['202599'][i].split()[0]] = [x for x in labels_df['202599'][i].split()[1:]]\n",
        "    self.label_df = pd.DataFrame(label_dict).T\n",
        "\n",
        "    self.label_df.columns = (labels_df['202599'][0]).split()\n",
        "    self.label_df.replace(['-1'], ['0'], inplace = True)\n",
        "\n",
        "    self.class_names = list(self.label_df.columns)\n",
        "\n",
        "\n",
        "    self.decision_value = 0.5;\n",
        "\n",
        "    self.device = torch.device(\"cuda\" if torch.cuda.is_available() else \"cpu\")\n",
        "    self.model = model.to(self.device)\n",
        "\n",
        "  def get_labels_from_index(self, index_list):\n",
        "    labels = []\n",
        "    for i, value in enumerate(index_list):\n",
        "      if value == 1:\n",
        "        labels.append(self.class_names[i])\n",
        "\n",
        "    return labels\n",
        "\n",
        "  def evaluate(self, image):\n",
        "    normalised_image = self.tfms(image)\n",
        "\n",
        "        \n",
        "    inputs = torch.unsqueeze(normalised_image, 0)\n",
        "\n",
        "    inputs = inputs.to(self.device)\n",
        "\n",
        "    self.model.eval()\n",
        "\n",
        "    outputs = self.model(inputs)\n",
        "    normalised_outputs = torch.gt(outputs, self.decision_value).int()\n",
        "    return self.get_labels_from_index(normalised_outputs.tolist()[0])"
      ],
      "execution_count": null,
      "outputs": []
    },
    {
      "cell_type": "code",
      "metadata": {
        "id": "Qgv2NT54bc6j"
      },
      "source": [
        "#only the model is required for this. Modify the model_path_inferencing and labels_path_inferencing in the config \n",
        "# to load the model and prepare for it for inferencing\n",
        "celeba = CelebAModel(model_path_inferencing, labels_path_inferencing)\n"
      ],
      "execution_count": null,
      "outputs": []
    },
    {
      "cell_type": "code",
      "metadata": {
        "colab": {
          "base_uri": "https://localhost:8080/"
        },
        "id": "ichXUIahgEGF",
        "outputId": "ea271bb8-9897-496f-da04-1dd2fe45855d"
      },
      "source": [
        "#run an inference on the image\n",
        "#image_path is set int the config  - default is \"test_face.jpg\"\n",
        "image = Image.open(image_path)\n",
        "\n",
        "\n",
        "#actually evaluate the image and print the predicted labels\n",
        "print(celeba.evaluate(image))"
      ],
      "execution_count": null,
      "outputs": [
        {
          "output_type": "stream",
          "text": [
            "['Blurry', 'Brown_Hair', 'Male', 'Mouth_Slightly_Open', 'Young']\n"
          ],
          "name": "stdout"
        }
      ]
    }
  ]
}